{
 "cells": [
  {
   "attachments": {},
   "cell_type": "markdown",
   "metadata": {},
   "source": [
    "# Import Packages"
   ]
  },
  {
   "cell_type": "code",
   "execution_count": 1,
   "metadata": {},
   "outputs": [
    {
     "name": "stderr",
     "output_type": "stream",
     "text": [
      "[nltk_data] Downloading package stopwords to\n",
      "[nltk_data]     /home/u3933826/nltk_data...\n",
      "[nltk_data]   Package stopwords is already up-to-date!\n"
     ]
    },
    {
     "data": {
      "text/plain": [
       "True"
      ]
     },
     "execution_count": 1,
     "metadata": {},
     "output_type": "execute_result"
    }
   ],
   "source": [
    "import nltk\n",
    "nltk.download('stopwords')"
   ]
  },
  {
   "cell_type": "code",
   "execution_count": 1,
   "metadata": {},
   "outputs": [
    {
     "ename": "ModuleNotFoundError",
     "evalue": "No module named 'torch'",
     "output_type": "error",
     "traceback": [
      "\u001b[1;31m---------------------------------------------------------------------------\u001b[0m",
      "\u001b[1;31mModuleNotFoundError\u001b[0m                       Traceback (most recent call last)",
      "\u001b[1;32m<ipython-input-1-bbd196847bd3>\u001b[0m in \u001b[0;36m<module>\u001b[1;34m\u001b[0m\n\u001b[1;32m----> 1\u001b[1;33m \u001b[1;32mfrom\u001b[0m \u001b[0mALPackage\u001b[0m\u001b[1;33m.\u001b[0m\u001b[0mtransformer\u001b[0m \u001b[1;32mimport\u001b[0m \u001b[0mEMBALLayer\u001b[0m\u001b[1;33m,\u001b[0m \u001b[0mTransformerEncoderALLayer\u001b[0m\u001b[1;33m,\u001b[0m \u001b[0mTransformerEncoder\u001b[0m\u001b[1;33m\u001b[0m\u001b[1;33m\u001b[0m\u001b[0m\n\u001b[0m\u001b[0;32m      2\u001b[0m \u001b[1;32mfrom\u001b[0m \u001b[0mutils\u001b[0m \u001b[1;32mimport\u001b[0m \u001b[0mget_word_vector\u001b[0m\u001b[1;33m,\u001b[0m \u001b[0mget_nlp_data\u001b[0m\u001b[1;33m,\u001b[0m \u001b[0mset_device\u001b[0m\u001b[1;33m\u001b[0m\u001b[1;33m\u001b[0m\u001b[0m\n\u001b[0;32m      3\u001b[0m \u001b[1;32mfrom\u001b[0m \u001b[0mtqdm\u001b[0m \u001b[1;32mimport\u001b[0m \u001b[0mtqdm\u001b[0m\u001b[1;33m\u001b[0m\u001b[1;33m\u001b[0m\u001b[0m\n\u001b[0;32m      4\u001b[0m \u001b[1;32mimport\u001b[0m \u001b[0mtime\u001b[0m\u001b[1;33m\u001b[0m\u001b[1;33m\u001b[0m\u001b[0m\n\u001b[0;32m      5\u001b[0m \u001b[1;31m#import torch.nn as nn\u001b[0m\u001b[1;33m\u001b[0m\u001b[1;33m\u001b[0m\u001b[1;33m\u001b[0m\u001b[0m\n",
      "\u001b[1;32md:\\MIS\\碩士\\論文\\TWCC\\ALPackage\\transformer.py\u001b[0m in \u001b[0;36m<module>\u001b[1;34m\u001b[0m\n\u001b[1;32m----> 1\u001b[1;33m \u001b[1;32mfrom\u001b[0m \u001b[1;33m.\u001b[0m\u001b[0mbase\u001b[0m \u001b[1;32mimport\u001b[0m \u001b[1;33m*\u001b[0m\u001b[1;33m\u001b[0m\u001b[1;33m\u001b[0m\u001b[0m\n\u001b[0m\u001b[0;32m      2\u001b[0m \u001b[1;32mfrom\u001b[0m \u001b[1;33m.\u001b[0m\u001b[0memb\u001b[0m \u001b[1;32mimport\u001b[0m \u001b[1;33m*\u001b[0m\u001b[1;33m\u001b[0m\u001b[1;33m\u001b[0m\u001b[0m\n\u001b[0;32m      3\u001b[0m \u001b[1;32mfrom\u001b[0m \u001b[1;33m.\u001b[0m\u001b[0mencoder\u001b[0m \u001b[1;32mimport\u001b[0m \u001b[0mTransformerEncoder\u001b[0m\u001b[1;33m\u001b[0m\u001b[1;33m\u001b[0m\u001b[0m\n\u001b[0;32m      4\u001b[0m \u001b[1;32mimport\u001b[0m \u001b[0mthreading\u001b[0m\u001b[1;33m\u001b[0m\u001b[1;33m\u001b[0m\u001b[0m\n\u001b[0;32m      5\u001b[0m \u001b[1;33m\u001b[0m\u001b[0m\n",
      "\u001b[1;32md:\\MIS\\碩士\\論文\\TWCC\\ALPackage\\base.py\u001b[0m in \u001b[0;36m<module>\u001b[1;34m\u001b[0m\n\u001b[1;32m----> 1\u001b[1;33m \u001b[1;32mimport\u001b[0m \u001b[0mtorch\u001b[0m\u001b[1;33m\u001b[0m\u001b[1;33m\u001b[0m\u001b[0m\n\u001b[0m\u001b[0;32m      2\u001b[0m \u001b[1;32mimport\u001b[0m \u001b[0mtorch\u001b[0m\u001b[1;33m.\u001b[0m\u001b[0mnn\u001b[0m \u001b[1;32mas\u001b[0m \u001b[0mnn\u001b[0m\u001b[1;33m\u001b[0m\u001b[1;33m\u001b[0m\u001b[0m\n\u001b[0;32m      3\u001b[0m \u001b[1;32mfrom\u001b[0m \u001b[0mtorch\u001b[0m\u001b[1;33m.\u001b[0m\u001b[0mprofiler\u001b[0m \u001b[1;32mimport\u001b[0m \u001b[0mrecord_function\u001b[0m\u001b[1;33m\u001b[0m\u001b[1;33m\u001b[0m\u001b[0m\n\u001b[0;32m      4\u001b[0m \u001b[1;33m\u001b[0m\u001b[0m\n\u001b[0;32m      5\u001b[0m \u001b[1;33m\u001b[0m\u001b[0m\n",
      "\u001b[1;31mModuleNotFoundError\u001b[0m: No module named 'torch'"
     ]
    }
   ],
   "source": [
    "from ALPackage.transformer import EMBALLayer, TransformerEncoderALLayer, TransformerEncoder\n",
    "from utils import get_word_vector, get_nlp_data, set_device\n",
    "from tqdm import tqdm\n",
    "import time\n",
    "import torch.nn as nn\n",
    "import torch\n",
    "import threading"
   ]
  },
  {
   "cell_type": "code",
   "execution_count": 1,
   "metadata": {},
   "outputs": [],
   "source": [
    "import matplotlib.pyplot as plt\n",
    "import pandas as pd\n",
    "import numpy as np\n",
    "from collections import defaultdict"
   ]
  },
  {
   "attachments": {},
   "cell_type": "markdown",
   "metadata": {},
   "source": [
    "# Prepare data"
   ]
  },
  {
   "cell_type": "code",
   "execution_count": 4,
   "metadata": {},
   "outputs": [],
   "source": [
    "class Args:\n",
    "    def __init__(self, dataset, max_len, min_len = 1):\n",
    "        self.dataset = dataset\n",
    "        self.class_num = None\n",
    "        self.batch_size = 256        \n",
    "        self.max_len = max_len\n",
    "        self.min_len = min_len\n",
    "        self.vocab_size = 30000\n",
    "        self.pretrained_embedding = None\n",
    "        self.pretrained_model = None\n",
    "        self.embedding_dim = 300\n",
    "        self.x_hid = 256\n",
    "        self.y_hid = 128\n",
    "        self.n_heads = 6       \n",
    "        self.dropout = 0.3\n",
    "        self.lr = 0.00025\n",
    "        self.epochs = 5\n",
    "        self.act = nn.Tanh()\n",
    "\n",
    "    def get_filename(self):\n",
    "        name = f\"{self.dataset},{self.batch_size},{self.max_len},{self.min_len},{self.x_hid},{self.y_hid}\"\n",
    "        return name\n",
    "    \n",
    "    def set_pretrained(self, vocab, emb):\n",
    "        self.pretrained_embedding = get_word_vector(vocab, emb)\n",
    "        self.pretrained_model = emb"
   ]
  },
  {
   "cell_type": "code",
   "execution_count": 5,
   "metadata": {},
   "outputs": [
    {
     "name": "stdout",
     "output_type": "stream",
     "text": [
      "|========================= Load data:ag_news ========================================================|\n"
     ]
    },
    {
     "name": "stderr",
     "output_type": "stream",
     "text": [
      "Found cached dataset ag_news (/home/u3933826/.cache/huggingface/datasets/ag_news/default/0.0.0/bc2bcb40336ace1a0374767fc29bb0296cdaf8a6da7298436239c54d79180548)\n",
      "Found cached dataset ag_news (/home/u3933826/.cache/huggingface/datasets/ag_news/default/0.0.0/bc2bcb40336ace1a0374767fc29bb0296cdaf8a6da7298436239c54d79180548)\n"
     ]
    },
    {
     "name": "stdout",
     "output_type": "stream",
     "text": [
      "|========================= Preprocessing ============================================================|\n",
      "Original Data: 120000\n",
      "Valid Data: 120000\n",
      "total count words 102019\n",
      "vocab size 30000\n"
     ]
    },
    {
     "name": "stderr",
     "output_type": "stream",
     "text": [
      "loading glove vocabs...: 100%|██████████| 400000/400000 [00:05<00:00, 72221.09it/s]\n"
     ]
    },
    {
     "name": "stdout",
     "output_type": "stream",
     "text": [
      "found 26754 words in glove\n"
     ]
    }
   ],
   "source": [
    "args = Args('ag_news', 128)\n",
    "train_loader, test_loader, class_num, vocab = get_nlp_data(args)\n",
    "args.class_num = class_num\n",
    "args.set_pretrained(vocab, emb='glove')"
   ]
  },
  {
   "attachments": {},
   "cell_type": "markdown",
   "metadata": {},
   "source": [
    "# Scale Test helper"
   ]
  },
  {
   "cell_type": "code",
   "execution_count": 6,
   "metadata": {},
   "outputs": [],
   "source": [
    "class Transformer(nn.Module):\n",
    "    def __init__(self, args, tr_num):\n",
    "        super().__init__()\n",
    "        self.seq = nn.ModuleList()\n",
    "        if args.pretrained_embedding == None:\n",
    "            self.seq.append(nn.Embedding(args.vocab_size, args.embedding_dim))\n",
    "        else:\n",
    "            self.seq.append(nn.Embedding.from_pretrained(args.pretrained_embedding, freeze=False))\n",
    "        for _ in range(tr_num):        \n",
    "            self.seq.append(TransformerEncoder(args.embedding_dim, args.x_hid, args.n_heads, 1, args.dropout))\n",
    "        self.seq.append(nn.Sequential(\n",
    "            nn.Linear(args.embedding_dim, args.class_num),\n",
    "            nn.LogSoftmax(dim=1)\n",
    "        ))\n",
    "        self.device = [\"cpu\" for _ in range(len(self.seq))]\n",
    "\n",
    "    def forward(self, x):\n",
    "        mask = self.get_mask(x)\n",
    "\n",
    "        # 1. Feed embedding layer\n",
    "        x = self.seq[0](x.to(self.device[0]))\n",
    "\n",
    "        # 2. Feed Transformer\n",
    "        for i in range(1, len(self.seq)-1, 1):\n",
    "            x = self.seq[i](x.to(self.device[i]), mask.to(self.device[i]))\n",
    "        \n",
    "        # 3. Feed fc layer\n",
    "        x = x.to(self.device[-1])\n",
    "        mask = mask.to(self.device[-1])\n",
    "        feat = torch.sum(x*mask.unsqueeze(-1), dim=1) / torch.sum(mask, -1, keepdim=True)\n",
    "        return self.seq[-1](feat)\n",
    "\n",
    "    def get_mask(self, x):\n",
    "        pad_mask = ~(x == 0)\n",
    "        return pad_mask"
   ]
  },
  {
   "cell_type": "code",
   "execution_count": 7,
   "metadata": {},
   "outputs": [],
   "source": [
    "class TransformerAL(nn.Module):\n",
    "    def __init__(self, args, tr_num):\n",
    "        super().__init__()\n",
    "        self.seq = nn.ModuleList()\n",
    "        self.seq.append(EMBALLayer(args.vocab_size, args.embedding_dim, args.class_num, args.y_hid, args.act, args.lr, args.pretrained_embedding))\n",
    "        for _ in range(tr_num):\n",
    "            self.seq.append(TransformerEncoderALLayer(args.embedding_dim, args.x_hid, args.y_hid, args.y_hid, args.act, args.lr, args.n_heads, 1, args.dropout))\n",
    "        self.device = [\"cpu\" for i in range(len(self.seq))]\n",
    "\n",
    "    def forward(self, x, y):\n",
    "        mask = self.get_mask(x)\n",
    "\n",
    "        # 1. Feed embedding layer\n",
    "        x, y = self.seq[0](x.to(self.device[0]), y.to(self.device[0]))\n",
    "        \n",
    "        # 2. Feed Transformer\n",
    "        for i in range(1, len(self.seq), 1):\n",
    "            inputs = (x.to(self.device[i]), mask.to(self.device[i]))\n",
    "            y = y.to(self.device[i])\n",
    "            x, y = self.seq[i](inputs, y)\n",
    "\n",
    "    def backward(self):\n",
    "        for i in range(len(self.seq)):\n",
    "            self.seq[i].backward()\n",
    "\n",
    "    def update(self):\n",
    "        for i in range(len(self.seq)):\n",
    "            self.seq[i].update()\n",
    "\n",
    "    def thread_backward_and_update(self):\n",
    "        threads = []\n",
    "        for i in range(len(self.seq)):\n",
    "            threads.append(threading.Thread(target=self.seq[i].backward_and_update))\n",
    "            threads[i].start()\n",
    "        for i in range(len(self.seq)):\n",
    "            threads[i].join()\n",
    "\n",
    "    def thread_forward_backward_and_update(self, x, y):\n",
    "        threads = []\n",
    "        mask = self.get_mask(x)\n",
    "\n",
    "        # 1. Feed embedding layer\n",
    "        x, y = self.seq[0](x.to(self.device[0]), y.to(self.device[0]))\n",
    "        threads.append(threading.Thread(target=self.seq[0].backward_and_update))\n",
    "        threads[0].start()\n",
    "\n",
    "        # 2. Feed Transformer\n",
    "        for i in range(1, len(self.seq), 1):\n",
    "            inputs = (x.to(self.device[i]), mask.to(self.device[i]))\n",
    "            y = y.to(self.device[i])\n",
    "            x, y = self.seq[i](inputs, y)\n",
    "            threads.append(threading.Thread(target=self.seq[i].backward_and_update))\n",
    "            threads[i].start()\n",
    "        \n",
    "        for i in range(len(self.seq)):\n",
    "            threads[i].join()\n",
    "    \n",
    "    def loss(self):\n",
    "        loss = {\n",
    "            \"enc_loss\": [],\n",
    "            \"ae_loss\": []\n",
    "        }\n",
    "        for i in range(len(self.seq)):\n",
    "            enc_loss, ae_loss = self.seq[i].loss()\n",
    "            loss['enc_loss'].append(enc_loss.item())\n",
    "            loss['ae_loss'].append(ae_loss.item())\n",
    "        return loss\n",
    "\n",
    "    def inference(self, x):\n",
    "        mask = self.get_mask(x)\n",
    "        x = self.seq[0].inference(x.to(self.device[0]), 'f')\n",
    "        for i in range(1, len(self.seq), 1):\n",
    "            inputs = (x.to(self.device[i]), mask.to(self.device[i]))\n",
    "            x = self.seq[i].inference(inputs, 'f')\n",
    "        inputs = (x, mask.to(self.device[i]))\n",
    "        x = self.seq[-1].inference(inputs, 'b')\n",
    "        for i in range(len(self.seq)-1, -1, -1):\n",
    "            x = x.to(self.device[i])\n",
    "            x = self.seq[i].inference(x, 'h')\n",
    "        return x\n",
    "\n",
    "    def get_mask(self, x):\n",
    "        pad_mask = ~(x == 0)\n",
    "        return pad_mask"
   ]
  },
  {
   "attachments": {},
   "cell_type": "markdown",
   "metadata": {},
   "source": [
    "# Trainer"
   ]
  },
  {
   "cell_type": "code",
   "execution_count": 8,
   "metadata": {},
   "outputs": [],
   "source": [
    "def Trainer(args, mode, device, tr_num):\n",
    "    \n",
    "    train_time = []\n",
    "    \n",
    "    if mode == \"BP\":\n",
    "        model = Transformer(args, tr_num)\n",
    "        set_device(model, device)\n",
    "        optimizer = torch.optim.Adam(model.parameters(), args.lr)\n",
    "        loss_fn = nn.NLLLoss()\n",
    "        \n",
    "        for epoch in range(args.epochs):\n",
    "            model.train()\n",
    "            torch.cuda.synchronize()\n",
    "            start = time.time()\n",
    "            for inputs, labels in tqdm(train_loader):            \n",
    "                labels = labels.to(device[-1])\n",
    "                pred = model(inputs)\n",
    "                loss_fn(pred, labels).backward()\n",
    "                optimizer.step()\n",
    "                optimizer.zero_grad()\n",
    "            torch.cuda.synchronize()\n",
    "            end = time.time()\n",
    "            train_time.append(end-start)\n",
    "                \n",
    "    elif mode == \"AL\":\n",
    "        model = TransformerAL(args, tr_num)\n",
    "        set_device(model, device)\n",
    "        for epoch in range(args.epochs):\n",
    "            model.train()\n",
    "            torch.cuda.synchronize()\n",
    "            start = time.time()\n",
    "            for inputs, labels in tqdm(train_loader):\n",
    "                y = torch.nn.functional.one_hot(labels, args.class_num).float()\n",
    "                model.thread_forward_backward_and_update(inputs, y)\n",
    "            torch.cuda.synchronize()\n",
    "            end = time.time()\n",
    "            train_time.append(end-start)\n",
    "    \n",
    "    return np.mean(train_time), np.std(train_time)     "
   ]
  },
  {
   "attachments": {},
   "cell_type": "markdown",
   "metadata": {},
   "source": [
    "# Scaling Test"
   ]
  },
  {
   "cell_type": "code",
   "execution_count": 10,
   "metadata": {},
   "outputs": [],
   "source": [
    "def Scale():\n",
    "    \n",
    "    '''\n",
    "    Weak: Add layers, add GPU\n",
    "    x: number of layers\n",
    "    y: execution time\n",
    "    method: gpu_num\n",
    "\n",
    "    1 gpu with 1x layers\n",
    "    2 gpu with 2x layers\n",
    "    ...\n",
    "    6 gpu with 6x layers \n",
    "\n",
    "    ===================================\n",
    "\n",
    "    Strong: Fix layers, add gpu\n",
    "    x: number of gpu\n",
    "    y: execution time\n",
    "    method: number of layers\n",
    "\n",
    "    6 layers with 1, 2, 3, 6 gpus\n",
    "    12 layers with 1, 2, 3, 4, 6 gpus\n",
    "    '''    \n",
    "    \n",
    "    gpus = {\n",
    "        \"1\":[[0],[0,0],[0,0,0],[0,0,0,0],[0,0,0,0,0],[0,0,0,0,0,0],\n",
    "             [0,0,0,0,0,0,0],[0,0,0,0,0,0,0,0],[0,0,0,0,0,0,0,0,0],[0,0,0,0,0,0,0,0,0,0],\n",
    "             [0,0,0,0,0,0,0,0,0,0,0],[0,0,0,0,0,0,0,0,0,0,0,0]],\n",
    "        \"2\":[[0,1],[0,0,1,1],[0,0,0,1,1,1],[0,0,0,0,1,1,1,1],[0,0,0,0,0,1,1,1,1,1],[0,0,0,0,0,0,1,1,1,1,1,1]],\n",
    "        \"3\":[[0,1,2],[0,0,1,1,2,2],[0,0,0,1,1,1,2,2,2],[0,0,0,0,1,1,1,1,2,2,2,2]],\n",
    "        \"4\":[[0,1,2,3],[0,0,1,1,2,2,3,3],[0,0,0,1,1,1,2,2,2,3,3,3]],\n",
    "        \"5\":[[0,1,2,3,4],[0,0,1,1,2,2,3,3,4,4]],\n",
    "        \"6\":[[0,1,2,3,4,5],[0,0,1,1,2,2,3,3,4,4,5,5]]\n",
    "    }\n",
    "\n",
    "    key = []\n",
    "    bp = []\n",
    "    al = []\n",
    "    \n",
    "    try:\n",
    "        mode = \"BP\"\n",
    "        for gpu, layers in gpus.items():\n",
    "            for layer in layers:\n",
    "                n = len(layer)\n",
    "                device = ['cuda:0']\n",
    "                for l in layer:\n",
    "                    device.append(f\"cuda:{l}\")\n",
    "                device.append(f\"cuda:{layer[-1]}\")\n",
    "                mean, std = Trainer(args, mode, device, n)\n",
    "                bp.append(f\"{mean:.4f}±{std:.4f}\")\n",
    "                print(f\"BP {gpu}gpu_{n}Trlayers:{mean:.4f}±{std:.4f}\")\n",
    "            \n",
    "        mode = \"AL\"    \n",
    "        for gpu, layers in gpus.items():\n",
    "            for layer in layers:\n",
    "                n = len(layer)\n",
    "                device = ['cuda:0']\n",
    "                for l in layer:\n",
    "                    device.append(f\"cuda:{l}\")\n",
    "                mean, std = Trainer(args, mode, device, n)\n",
    "                al.append(f\"{mean:.4f}±{std:.4f}\")\n",
    "                print(f\"AL {gpu}gpu_{n}Trlayers:{mean:.4f}±{std:.4f}\")\n",
    "\n",
    "        for gpu, layers in gpus.items():\n",
    "            for layer in layers:\n",
    "                n = len(layer)\n",
    "                key.append(f\"{gpu}gpu_{n}Trlayers\")\n",
    "\n",
    "        result = {\n",
    "            \"key\": key,\n",
    "            \"bp\": bp,\n",
    "            \"al\": al\n",
    "        }  \n",
    "\n",
    "        df = pd.DataFrame(result)\n",
    "        df.to_csv(f\"Scale.csv\", index=False)\n",
    "        return bp, al\n",
    "\n",
    "    except Exception as e:\n",
    "        print(e)      \n",
    "        return bp, al"
   ]
  },
  {
   "cell_type": "code",
   "execution_count": 11,
   "metadata": {},
   "outputs": [
    {
     "name": "stderr",
     "output_type": "stream",
     "text": [
      "100%|██████████| 469/469 [00:08<00:00, 54.77it/s]\n",
      "100%|██████████| 469/469 [00:08<00:00, 56.45it/s]\n",
      "100%|██████████| 469/469 [00:08<00:00, 56.26it/s]\n",
      "100%|██████████| 469/469 [00:08<00:00, 56.38it/s]\n",
      "100%|██████████| 469/469 [00:08<00:00, 56.29it/s]\n"
     ]
    },
    {
     "name": "stdout",
     "output_type": "stream",
     "text": [
      "BP 1gpu_1Trlayers:8.3734±0.0970\n"
     ]
    },
    {
     "name": "stderr",
     "output_type": "stream",
     "text": [
      "100%|██████████| 469/469 [00:14<00:00, 32.16it/s]\n",
      "100%|██████████| 469/469 [00:15<00:00, 31.24it/s]\n",
      "100%|██████████| 469/469 [00:15<00:00, 30.35it/s]\n",
      "100%|██████████| 469/469 [00:15<00:00, 30.72it/s]\n",
      "100%|██████████| 469/469 [00:14<00:00, 32.59it/s]\n"
     ]
    },
    {
     "name": "stdout",
     "output_type": "stream",
     "text": [
      "BP 1gpu_2Trlayers:14.9438±0.4013\n"
     ]
    },
    {
     "name": "stderr",
     "output_type": "stream",
     "text": [
      "100%|██████████| 469/469 [00:20<00:00, 22.43it/s]\n",
      "100%|██████████| 469/469 [00:20<00:00, 22.58it/s]\n",
      "100%|██████████| 469/469 [00:20<00:00, 22.46it/s]\n",
      "100%|██████████| 469/469 [00:20<00:00, 22.57it/s]\n",
      "100%|██████████| 469/469 [00:20<00:00, 22.53it/s]\n"
     ]
    },
    {
     "name": "stdout",
     "output_type": "stream",
     "text": [
      "BP 1gpu_3Trlayers:20.8352±0.0569\n"
     ]
    },
    {
     "name": "stderr",
     "output_type": "stream",
     "text": [
      "100%|██████████| 469/469 [00:27<00:00, 17.05it/s]\n",
      "100%|██████████| 469/469 [00:27<00:00, 17.23it/s]\n",
      "100%|██████████| 469/469 [00:27<00:00, 17.16it/s]\n",
      "100%|██████████| 469/469 [00:27<00:00, 17.29it/s]\n",
      "100%|██████████| 469/469 [00:27<00:00, 17.05it/s]\n"
     ]
    },
    {
     "name": "stdout",
     "output_type": "stream",
     "text": [
      "BP 1gpu_4Trlayers:27.3430±0.1510\n"
     ]
    },
    {
     "name": "stderr",
     "output_type": "stream",
     "text": [
      "100%|██████████| 469/469 [00:33<00:00, 13.95it/s]\n",
      "100%|██████████| 469/469 [00:34<00:00, 13.42it/s]\n",
      "100%|██████████| 469/469 [00:33<00:00, 13.95it/s]\n",
      "100%|██████████| 469/469 [00:33<00:00, 13.96it/s]\n",
      "100%|██████████| 469/469 [00:33<00:00, 14.01it/s]\n"
     ]
    },
    {
     "name": "stdout",
     "output_type": "stream",
     "text": [
      "BP 1gpu_5Trlayers:33.8567±0.5492\n"
     ]
    },
    {
     "name": "stderr",
     "output_type": "stream",
     "text": [
      "100%|██████████| 469/469 [00:40<00:00, 11.46it/s]\n",
      "100%|██████████| 469/469 [00:39<00:00, 11.76it/s]\n",
      "100%|██████████| 469/469 [00:39<00:00, 11.74it/s]\n",
      "100%|██████████| 469/469 [00:39<00:00, 11.79it/s]\n",
      "100%|██████████| 469/469 [00:39<00:00, 11.81it/s]\n"
     ]
    },
    {
     "name": "stdout",
     "output_type": "stream",
     "text": [
      "BP 1gpu_6Trlayers:40.0579±0.4467\n"
     ]
    },
    {
     "name": "stderr",
     "output_type": "stream",
     "text": [
      "100%|██████████| 469/469 [00:46<00:00, 10.18it/s]\n",
      "100%|██████████| 469/469 [00:45<00:00, 10.20it/s]\n",
      "100%|██████████| 469/469 [00:45<00:00, 10.24it/s]\n",
      "100%|██████████| 469/469 [00:46<00:00, 10.17it/s]\n",
      "100%|██████████| 469/469 [00:45<00:00, 10.26it/s]\n"
     ]
    },
    {
     "name": "stdout",
     "output_type": "stream",
     "text": [
      "BP 1gpu_7Trlayers:45.9336±0.1529\n"
     ]
    },
    {
     "name": "stderr",
     "output_type": "stream",
     "text": [
      "100%|██████████| 469/469 [00:52<00:00,  9.01it/s]\n",
      "100%|██████████| 469/469 [00:52<00:00,  8.91it/s]\n",
      "100%|██████████| 469/469 [00:52<00:00,  8.88it/s]\n",
      "100%|██████████| 469/469 [00:52<00:00,  8.88it/s]\n",
      "100%|██████████| 469/469 [00:52<00:00,  8.91it/s]\n"
     ]
    },
    {
     "name": "stdout",
     "output_type": "stream",
     "text": [
      "BP 1gpu_8Trlayers:52.6002±0.2739\n"
     ]
    },
    {
     "name": "stderr",
     "output_type": "stream",
     "text": [
      "100%|██████████| 469/469 [00:58<00:00,  7.99it/s]\n",
      "100%|██████████| 469/469 [00:59<00:00,  7.95it/s]\n",
      "100%|██████████| 469/469 [00:58<00:00,  8.00it/s]\n",
      "100%|██████████| 469/469 [00:59<00:00,  7.94it/s]\n",
      "100%|██████████| 469/469 [00:58<00:00,  8.01it/s]\n"
     ]
    },
    {
     "name": "stdout",
     "output_type": "stream",
     "text": [
      "BP 1gpu_9Trlayers:58.8116±0.2049\n"
     ]
    },
    {
     "name": "stderr",
     "output_type": "stream",
     "text": [
      "100%|██████████| 469/469 [01:04<00:00,  7.28it/s]\n",
      "100%|██████████| 469/469 [01:04<00:00,  7.25it/s]\n",
      "100%|██████████| 469/469 [01:04<00:00,  7.29it/s]\n",
      "100%|██████████| 469/469 [01:04<00:00,  7.25it/s]\n",
      "100%|██████████| 469/469 [01:04<00:00,  7.24it/s]\n"
     ]
    },
    {
     "name": "stdout",
     "output_type": "stream",
     "text": [
      "BP 1gpu_10Trlayers:64.5912±0.1817\n"
     ]
    },
    {
     "name": "stderr",
     "output_type": "stream",
     "text": [
      "100%|██████████| 469/469 [01:10<00:00,  6.65it/s]\n",
      "100%|██████████| 469/469 [01:10<00:00,  6.62it/s]\n",
      "100%|██████████| 469/469 [01:10<00:00,  6.64it/s]\n",
      "100%|██████████| 469/469 [01:10<00:00,  6.63it/s]\n",
      "100%|██████████| 469/469 [01:10<00:00,  6.61it/s]\n"
     ]
    },
    {
     "name": "stdout",
     "output_type": "stream",
     "text": [
      "BP 1gpu_11Trlayers:70.7207±0.1514\n"
     ]
    },
    {
     "name": "stderr",
     "output_type": "stream",
     "text": [
      "100%|██████████| 469/469 [01:16<00:00,  6.11it/s]\n",
      "100%|██████████| 469/469 [01:16<00:00,  6.10it/s]\n",
      "100%|██████████| 469/469 [01:16<00:00,  6.12it/s]\n",
      "100%|██████████| 469/469 [01:16<00:00,  6.16it/s]\n",
      "100%|██████████| 469/469 [01:15<00:00,  6.18it/s]\n"
     ]
    },
    {
     "name": "stdout",
     "output_type": "stream",
     "text": [
      "BP 1gpu_12Trlayers:76.4952±0.3955\n"
     ]
    },
    {
     "name": "stderr",
     "output_type": "stream",
     "text": [
      "100%|██████████| 469/469 [00:15<00:00, 30.37it/s]\n",
      "100%|██████████| 469/469 [00:15<00:00, 30.91it/s]\n",
      "100%|██████████| 469/469 [00:15<00:00, 30.91it/s]\n",
      "100%|██████████| 469/469 [00:15<00:00, 30.81it/s]\n",
      "100%|██████████| 469/469 [00:15<00:00, 30.75it/s]\n"
     ]
    },
    {
     "name": "stdout",
     "output_type": "stream",
     "text": [
      "BP 2gpu_2Trlayers:15.2545±0.0994\n"
     ]
    },
    {
     "name": "stderr",
     "output_type": "stream",
     "text": [
      "100%|██████████| 469/469 [00:28<00:00, 16.52it/s]\n",
      "100%|██████████| 469/469 [00:28<00:00, 16.57it/s]\n",
      "100%|██████████| 469/469 [00:28<00:00, 16.58it/s]\n",
      "100%|██████████| 469/469 [00:28<00:00, 16.70it/s]\n",
      "100%|██████████| 469/469 [00:28<00:00, 16.53it/s]\n"
     ]
    },
    {
     "name": "stdout",
     "output_type": "stream",
     "text": [
      "BP 2gpu_4Trlayers:28.2843±0.1099\n"
     ]
    },
    {
     "name": "stderr",
     "output_type": "stream",
     "text": [
      "100%|██████████| 469/469 [00:40<00:00, 11.46it/s]\n",
      "100%|██████████| 469/469 [00:40<00:00, 11.52it/s]\n",
      "100%|██████████| 469/469 [00:40<00:00, 11.49it/s]\n",
      "100%|██████████| 469/469 [00:40<00:00, 11.52it/s]\n",
      "100%|██████████| 469/469 [00:40<00:00, 11.55it/s]\n"
     ]
    },
    {
     "name": "stdout",
     "output_type": "stream",
     "text": [
      "BP 2gpu_6Trlayers:40.7531±0.1053\n"
     ]
    },
    {
     "name": "stderr",
     "output_type": "stream",
     "text": [
      "100%|██████████| 469/469 [00:52<00:00,  8.86it/s]\n",
      "100%|██████████| 469/469 [00:52<00:00,  8.85it/s]\n",
      "100%|██████████| 469/469 [00:52<00:00,  8.85it/s]\n",
      "100%|██████████| 469/469 [00:53<00:00,  8.84it/s]\n",
      "100%|██████████| 469/469 [00:52<00:00,  8.88it/s]\n"
     ]
    },
    {
     "name": "stdout",
     "output_type": "stream",
     "text": [
      "BP 2gpu_8Trlayers:52.9547±0.0708\n"
     ]
    },
    {
     "name": "stderr",
     "output_type": "stream",
     "text": [
      "100%|██████████| 469/469 [01:05<00:00,  7.21it/s]\n",
      "100%|██████████| 469/469 [01:04<00:00,  7.23it/s]\n",
      "100%|██████████| 469/469 [01:04<00:00,  7.25it/s]\n",
      "100%|██████████| 469/469 [01:04<00:00,  7.26it/s]\n",
      "100%|██████████| 469/469 [01:04<00:00,  7.23it/s]\n"
     ]
    },
    {
     "name": "stdout",
     "output_type": "stream",
     "text": [
      "BP 2gpu_10Trlayers:64.8334±0.1736\n"
     ]
    },
    {
     "name": "stderr",
     "output_type": "stream",
     "text": [
      "100%|██████████| 469/469 [01:16<00:00,  6.14it/s]\n",
      "100%|██████████| 469/469 [01:16<00:00,  6.10it/s]\n",
      "100%|██████████| 469/469 [01:16<00:00,  6.10it/s]\n",
      "100%|██████████| 469/469 [01:16<00:00,  6.12it/s]\n",
      "100%|██████████| 469/469 [01:16<00:00,  6.11it/s]\n"
     ]
    },
    {
     "name": "stdout",
     "output_type": "stream",
     "text": [
      "BP 2gpu_12Trlayers:76.6917±0.1794\n"
     ]
    },
    {
     "name": "stderr",
     "output_type": "stream",
     "text": [
      "100%|██████████| 469/469 [00:23<00:00, 19.89it/s]\n",
      "100%|██████████| 469/469 [00:23<00:00, 19.82it/s]\n",
      "100%|██████████| 469/469 [00:23<00:00, 20.15it/s]\n",
      "100%|██████████| 469/469 [00:23<00:00, 19.87it/s]\n",
      "100%|██████████| 469/469 [00:23<00:00, 19.85it/s]\n"
     ]
    },
    {
     "name": "stdout",
     "output_type": "stream",
     "text": [
      "BP 3gpu_3Trlayers:23.5520±0.1383\n"
     ]
    },
    {
     "name": "stderr",
     "output_type": "stream",
     "text": [
      "100%|██████████| 469/469 [00:44<00:00, 10.64it/s]\n",
      "100%|██████████| 469/469 [00:43<00:00, 10.77it/s]\n",
      "100%|██████████| 469/469 [00:43<00:00, 10.76it/s]\n",
      "100%|██████████| 469/469 [00:43<00:00, 10.74it/s]\n",
      "100%|██████████| 469/469 [00:43<00:00, 10.83it/s]\n"
     ]
    },
    {
     "name": "stdout",
     "output_type": "stream",
     "text": [
      "BP 3gpu_6Trlayers:43.6421±0.2525\n"
     ]
    },
    {
     "name": "stderr",
     "output_type": "stream",
     "text": [
      "100%|██████████| 469/469 [01:01<00:00,  7.68it/s]\n",
      "100%|██████████| 469/469 [01:00<00:00,  7.77it/s]\n",
      "100%|██████████| 469/469 [01:00<00:00,  7.80it/s]\n",
      "100%|██████████| 469/469 [01:00<00:00,  7.75it/s]\n",
      "100%|██████████| 469/469 [01:00<00:00,  7.74it/s]\n"
     ]
    },
    {
     "name": "stdout",
     "output_type": "stream",
     "text": [
      "BP 3gpu_9Trlayers:60.5362±0.3050\n"
     ]
    },
    {
     "name": "stderr",
     "output_type": "stream",
     "text": [
      "100%|██████████| 469/469 [01:17<00:00,  6.02it/s]\n",
      "100%|██████████| 469/469 [01:17<00:00,  6.05it/s]\n",
      "100%|██████████| 469/469 [01:17<00:00,  6.03it/s]\n",
      "100%|██████████| 469/469 [01:18<00:00,  6.00it/s]\n",
      "100%|██████████| 469/469 [01:18<00:00,  6.00it/s]\n"
     ]
    },
    {
     "name": "stdout",
     "output_type": "stream",
     "text": [
      "BP 3gpu_12Trlayers:77.9079±0.2478\n"
     ]
    },
    {
     "name": "stderr",
     "output_type": "stream",
     "text": [
      "100%|██████████| 469/469 [00:29<00:00, 15.80it/s]\n",
      "100%|██████████| 469/469 [00:30<00:00, 15.32it/s]\n",
      "100%|██████████| 469/469 [00:30<00:00, 15.27it/s]\n",
      "100%|██████████| 469/469 [00:31<00:00, 15.12it/s]\n",
      "100%|██████████| 469/469 [00:31<00:00, 15.12it/s]\n"
     ]
    },
    {
     "name": "stdout",
     "output_type": "stream",
     "text": [
      "BP 4gpu_4Trlayers:30.6141±0.4868\n"
     ]
    },
    {
     "name": "stderr",
     "output_type": "stream",
     "text": [
      "100%|██████████| 469/469 [00:57<00:00,  8.15it/s]\n",
      "100%|██████████| 469/469 [00:57<00:00,  8.17it/s]\n",
      "100%|██████████| 469/469 [00:57<00:00,  8.17it/s]\n",
      "100%|██████████| 469/469 [00:57<00:00,  8.18it/s]\n",
      "100%|██████████| 469/469 [00:57<00:00,  8.20it/s]\n"
     ]
    },
    {
     "name": "stdout",
     "output_type": "stream",
     "text": [
      "BP 4gpu_8Trlayers:57.3711±0.1238\n"
     ]
    },
    {
     "name": "stderr",
     "output_type": "stream",
     "text": [
      "100%|██████████| 469/469 [01:22<00:00,  5.67it/s]\n",
      "100%|██████████| 469/469 [01:23<00:00,  5.65it/s]\n",
      "100%|██████████| 469/469 [01:22<00:00,  5.70it/s]\n",
      "100%|██████████| 469/469 [01:22<00:00,  5.67it/s]\n",
      "100%|██████████| 469/469 [01:22<00:00,  5.69it/s]\n"
     ]
    },
    {
     "name": "stdout",
     "output_type": "stream",
     "text": [
      "BP 4gpu_12Trlayers:82.6394±0.2389\n"
     ]
    },
    {
     "name": "stderr",
     "output_type": "stream",
     "text": [
      "100%|██████████| 469/469 [00:40<00:00, 11.61it/s]\n",
      "100%|██████████| 469/469 [00:39<00:00, 11.77it/s]\n",
      "100%|██████████| 469/469 [00:39<00:00, 11.85it/s]\n",
      "100%|██████████| 469/469 [00:39<00:00, 11.87it/s]\n",
      "100%|██████████| 469/469 [00:39<00:00, 11.89it/s]\n"
     ]
    },
    {
     "name": "stdout",
     "output_type": "stream",
     "text": [
      "BP 5gpu_5Trlayers:39.7588±0.3489\n"
     ]
    },
    {
     "name": "stderr",
     "output_type": "stream",
     "text": [
      "100%|██████████| 469/469 [01:12<00:00,  6.49it/s]\n",
      "100%|██████████| 469/469 [01:12<00:00,  6.47it/s]\n",
      "100%|██████████| 469/469 [01:12<00:00,  6.51it/s]\n",
      "100%|██████████| 469/469 [01:12<00:00,  6.49it/s]\n",
      "100%|██████████| 469/469 [01:12<00:00,  6.47it/s]\n"
     ]
    },
    {
     "name": "stdout",
     "output_type": "stream",
     "text": [
      "BP 5gpu_10Trlayers:72.3184±0.1783\n"
     ]
    },
    {
     "name": "stderr",
     "output_type": "stream",
     "text": [
      "100%|██████████| 469/469 [00:46<00:00,  9.99it/s]\n",
      "100%|██████████| 469/469 [00:46<00:00, 10.01it/s]\n",
      "100%|██████████| 469/469 [00:46<00:00, 10.06it/s]\n",
      "100%|██████████| 469/469 [00:46<00:00, 10.03it/s]\n",
      "100%|██████████| 469/469 [00:47<00:00,  9.98it/s]\n"
     ]
    },
    {
     "name": "stdout",
     "output_type": "stream",
     "text": [
      "BP 6gpu_6Trlayers:46.8407±0.1325\n"
     ]
    },
    {
     "name": "stderr",
     "output_type": "stream",
     "text": [
      "100%|██████████| 469/469 [01:25<00:00,  5.46it/s]\n",
      "100%|██████████| 469/469 [01:24<00:00,  5.52it/s]\n",
      "100%|██████████| 469/469 [01:29<00:00,  5.25it/s]\n",
      "100%|██████████| 469/469 [01:25<00:00,  5.49it/s]\n",
      "100%|██████████| 469/469 [01:24<00:00,  5.52it/s]\n"
     ]
    },
    {
     "name": "stdout",
     "output_type": "stream",
     "text": [
      "BP 6gpu_12Trlayers:86.1056±1.6430\n"
     ]
    },
    {
     "name": "stderr",
     "output_type": "stream",
     "text": [
      "100%|██████████| 469/469 [00:07<00:00, 66.07it/s]\n",
      "100%|██████████| 469/469 [00:07<00:00, 65.51it/s]\n",
      "100%|██████████| 469/469 [00:07<00:00, 65.47it/s]\n",
      "100%|██████████| 469/469 [00:07<00:00, 66.82it/s]\n",
      "100%|██████████| 469/469 [00:07<00:00, 66.63it/s]\n"
     ]
    },
    {
     "name": "stdout",
     "output_type": "stream",
     "text": [
      "AL 1gpu_1Trlayers:7.0983±0.0601\n"
     ]
    },
    {
     "name": "stderr",
     "output_type": "stream",
     "text": [
      "100%|██████████| 469/469 [00:12<00:00, 38.64it/s]\n",
      "100%|██████████| 469/469 [00:12<00:00, 38.59it/s]\n",
      "100%|██████████| 469/469 [00:12<00:00, 38.65it/s]\n",
      "100%|██████████| 469/469 [00:12<00:00, 38.49it/s]\n",
      "100%|██████████| 469/469 [00:12<00:00, 38.66it/s]\n"
     ]
    },
    {
     "name": "stdout",
     "output_type": "stream",
     "text": [
      "AL 1gpu_2Trlayers:12.1553±0.0204\n"
     ]
    },
    {
     "name": "stderr",
     "output_type": "stream",
     "text": [
      "100%|██████████| 469/469 [00:17<00:00, 26.83it/s]\n",
      "100%|██████████| 469/469 [00:17<00:00, 26.74it/s]\n",
      "100%|██████████| 469/469 [00:17<00:00, 26.74it/s]\n",
      "100%|██████████| 469/469 [00:17<00:00, 26.82it/s]\n",
      "100%|██████████| 469/469 [00:17<00:00, 26.81it/s]\n"
     ]
    },
    {
     "name": "stdout",
     "output_type": "stream",
     "text": [
      "AL 1gpu_3Trlayers:17.5187±0.0245\n"
     ]
    },
    {
     "name": "stderr",
     "output_type": "stream",
     "text": [
      "100%|██████████| 469/469 [00:23<00:00, 20.37it/s]\n",
      "100%|██████████| 469/469 [00:23<00:00, 20.36it/s]\n",
      "100%|██████████| 469/469 [00:22<00:00, 20.40it/s]\n",
      "100%|██████████| 469/469 [00:22<00:00, 20.47it/s]\n",
      "100%|██████████| 469/469 [00:22<00:00, 20.50it/s]\n"
     ]
    },
    {
     "name": "stdout",
     "output_type": "stream",
     "text": [
      "AL 1gpu_4Trlayers:22.9735±0.0578\n"
     ]
    },
    {
     "name": "stderr",
     "output_type": "stream",
     "text": [
      "100%|██████████| 469/469 [00:28<00:00, 16.48it/s]\n",
      "100%|██████████| 469/469 [00:28<00:00, 16.47it/s]\n",
      "100%|██████████| 469/469 [00:28<00:00, 16.58it/s]\n",
      "100%|██████████| 469/469 [00:28<00:00, 16.56it/s]\n",
      "100%|██████████| 469/469 [00:28<00:00, 16.64it/s]\n"
     ]
    },
    {
     "name": "stdout",
     "output_type": "stream",
     "text": [
      "AL 1gpu_5Trlayers:28.3554±0.1054\n"
     ]
    },
    {
     "name": "stderr",
     "output_type": "stream",
     "text": [
      "100%|██████████| 469/469 [00:33<00:00, 13.86it/s]\n",
      "100%|██████████| 469/469 [00:33<00:00, 13.85it/s]\n",
      "100%|██████████| 469/469 [00:33<00:00, 13.92it/s]\n",
      "100%|██████████| 469/469 [00:33<00:00, 13.86it/s]\n",
      "100%|██████████| 469/469 [00:33<00:00, 13.97it/s]\n"
     ]
    },
    {
     "name": "stdout",
     "output_type": "stream",
     "text": [
      "AL 1gpu_6Trlayers:33.7685±0.1114\n"
     ]
    },
    {
     "name": "stderr",
     "output_type": "stream",
     "text": [
      "100%|██████████| 469/469 [00:39<00:00, 11.93it/s]\n",
      "100%|██████████| 469/469 [00:39<00:00, 11.94it/s]\n",
      "100%|██████████| 469/469 [00:39<00:00, 11.98it/s]\n",
      "100%|██████████| 469/469 [00:39<00:00, 11.94it/s]\n",
      "100%|██████████| 469/469 [00:39<00:00, 12.02it/s]\n"
     ]
    },
    {
     "name": "stdout",
     "output_type": "stream",
     "text": [
      "AL 1gpu_7Trlayers:39.2112±0.1043\n"
     ]
    },
    {
     "name": "stderr",
     "output_type": "stream",
     "text": [
      "100%|██████████| 469/469 [00:44<00:00, 10.50it/s]\n",
      "100%|██████████| 469/469 [00:44<00:00, 10.51it/s]\n",
      "100%|██████████| 469/469 [00:44<00:00, 10.47it/s]\n",
      "100%|██████████| 469/469 [00:44<00:00, 10.51it/s]\n",
      "100%|██████████| 469/469 [00:44<00:00, 10.52it/s]\n"
     ]
    },
    {
     "name": "stdout",
     "output_type": "stream",
     "text": [
      "AL 1gpu_8Trlayers:44.6508±0.0663\n"
     ]
    },
    {
     "name": "stderr",
     "output_type": "stream",
     "text": [
      "100%|██████████| 469/469 [00:49<00:00,  9.44it/s]\n",
      "100%|██████████| 469/469 [00:49<00:00,  9.43it/s]\n",
      "100%|██████████| 469/469 [00:50<00:00,  9.35it/s]\n",
      "100%|██████████| 469/469 [00:50<00:00,  9.38it/s]\n",
      "100%|██████████| 469/469 [00:49<00:00,  9.45it/s]\n"
     ]
    },
    {
     "name": "stdout",
     "output_type": "stream",
     "text": [
      "AL 1gpu_9Trlayers:49.8479±0.1974\n"
     ]
    },
    {
     "name": "stderr",
     "output_type": "stream",
     "text": [
      "100%|██████████| 469/469 [00:55<00:00,  8.49it/s]\n",
      "100%|██████████| 469/469 [00:55<00:00,  8.48it/s]\n",
      "100%|██████████| 469/469 [00:55<00:00,  8.48it/s]\n",
      "100%|██████████| 469/469 [00:55<00:00,  8.49it/s]\n",
      "100%|██████████| 469/469 [00:55<00:00,  8.51it/s]\n"
     ]
    },
    {
     "name": "stdout",
     "output_type": "stream",
     "text": [
      "AL 1gpu_10Trlayers:55.2403±0.0579\n"
     ]
    },
    {
     "name": "stderr",
     "output_type": "stream",
     "text": [
      "100%|██████████| 469/469 [01:00<00:00,  7.72it/s]\n",
      "100%|██████████| 469/469 [01:00<00:00,  7.71it/s]\n",
      "100%|██████████| 469/469 [01:00<00:00,  7.71it/s]\n",
      "100%|██████████| 469/469 [01:00<00:00,  7.72it/s]\n",
      "100%|██████████| 469/469 [01:00<00:00,  7.70it/s]\n"
     ]
    },
    {
     "name": "stdout",
     "output_type": "stream",
     "text": [
      "AL 1gpu_11Trlayers:60.8152±0.0661\n"
     ]
    },
    {
     "name": "stderr",
     "output_type": "stream",
     "text": [
      "100%|██████████| 469/469 [01:06<00:00,  7.10it/s]\n",
      "100%|██████████| 469/469 [01:06<00:00,  7.10it/s]\n",
      "100%|██████████| 469/469 [01:06<00:00,  7.07it/s]\n",
      "100%|██████████| 469/469 [01:06<00:00,  7.09it/s]\n",
      "100%|██████████| 469/469 [01:05<00:00,  7.15it/s]\n"
     ]
    },
    {
     "name": "stdout",
     "output_type": "stream",
     "text": [
      "AL 1gpu_12Trlayers:66.0528±0.2424\n"
     ]
    },
    {
     "name": "stderr",
     "output_type": "stream",
     "text": [
      "100%|██████████| 469/469 [00:08<00:00, 54.94it/s]\n",
      "100%|██████████| 469/469 [00:08<00:00, 54.33it/s]\n",
      "100%|██████████| 469/469 [00:08<00:00, 55.53it/s]\n",
      "100%|██████████| 469/469 [00:08<00:00, 55.02it/s]\n",
      "100%|██████████| 469/469 [00:08<00:00, 52.44it/s]\n"
     ]
    },
    {
     "name": "stdout",
     "output_type": "stream",
     "text": [
      "AL 2gpu_2Trlayers:8.6187±0.1733\n"
     ]
    },
    {
     "name": "stderr",
     "output_type": "stream",
     "text": [
      "100%|██████████| 469/469 [00:19<00:00, 24.57it/s]\n",
      "100%|██████████| 469/469 [00:19<00:00, 24.36it/s]\n",
      "100%|██████████| 469/469 [00:19<00:00, 24.56it/s]\n",
      "100%|██████████| 469/469 [00:19<00:00, 24.53it/s]\n",
      "100%|██████████| 469/469 [00:19<00:00, 24.44it/s]\n"
     ]
    },
    {
     "name": "stdout",
     "output_type": "stream",
     "text": [
      "AL 2gpu_4Trlayers:19.1516±0.0622\n"
     ]
    },
    {
     "name": "stderr",
     "output_type": "stream",
     "text": [
      "100%|██████████| 469/469 [00:29<00:00, 15.73it/s]\n",
      "100%|██████████| 469/469 [00:30<00:00, 15.60it/s]\n",
      "100%|██████████| 469/469 [00:29<00:00, 15.70it/s]\n",
      "100%|██████████| 469/469 [00:30<00:00, 15.44it/s]\n",
      "100%|██████████| 469/469 [00:29<00:00, 15.70it/s]\n"
     ]
    },
    {
     "name": "stdout",
     "output_type": "stream",
     "text": [
      "AL 2gpu_6Trlayers:29.9998±0.2047\n"
     ]
    },
    {
     "name": "stderr",
     "output_type": "stream",
     "text": [
      "100%|██████████| 469/469 [00:41<00:00, 11.39it/s]\n",
      "100%|██████████| 469/469 [00:40<00:00, 11.47it/s]\n",
      "100%|██████████| 469/469 [00:40<00:00, 11.49it/s]\n",
      "100%|██████████| 469/469 [00:40<00:00, 11.55it/s]\n",
      "100%|██████████| 469/469 [00:40<00:00, 11.50it/s]\n"
     ]
    },
    {
     "name": "stdout",
     "output_type": "stream",
     "text": [
      "AL 2gpu_8Trlayers:40.8495±0.1800\n"
     ]
    },
    {
     "name": "stderr",
     "output_type": "stream",
     "text": [
      "100%|██████████| 469/469 [00:51<00:00,  9.04it/s]\n",
      "100%|██████████| 469/469 [00:51<00:00,  9.06it/s]\n",
      "100%|██████████| 469/469 [00:51<00:00,  9.05it/s]\n",
      "100%|██████████| 469/469 [00:51<00:00,  9.04it/s]\n",
      "100%|██████████| 469/469 [00:51<00:00,  9.05it/s]\n"
     ]
    },
    {
     "name": "stdout",
     "output_type": "stream",
     "text": [
      "AL 2gpu_10Trlayers:51.8299±0.0327\n"
     ]
    },
    {
     "name": "stderr",
     "output_type": "stream",
     "text": [
      "100%|██████████| 469/469 [01:02<00:00,  7.50it/s]\n",
      "100%|██████████| 469/469 [01:02<00:00,  7.49it/s]\n",
      "100%|██████████| 469/469 [01:02<00:00,  7.46it/s]\n",
      "100%|██████████| 469/469 [01:02<00:00,  7.49it/s]\n",
      "100%|██████████| 469/469 [01:02<00:00,  7.54it/s]\n"
     ]
    },
    {
     "name": "stdout",
     "output_type": "stream",
     "text": [
      "AL 2gpu_12Trlayers:62.5702±0.2231\n"
     ]
    },
    {
     "name": "stderr",
     "output_type": "stream",
     "text": [
      "100%|██████████| 469/469 [00:10<00:00, 43.65it/s]\n",
      "100%|██████████| 469/469 [00:12<00:00, 37.29it/s]\n",
      "100%|██████████| 469/469 [00:10<00:00, 43.30it/s]\n",
      "100%|██████████| 469/469 [00:11<00:00, 39.78it/s]\n",
      "100%|██████████| 469/469 [00:13<00:00, 34.89it/s]\n"
     ]
    },
    {
     "name": "stdout",
     "output_type": "stream",
     "text": [
      "AL 3gpu_3Trlayers:11.8783±1.0310\n"
     ]
    },
    {
     "name": "stderr",
     "output_type": "stream",
     "text": [
      "100%|██████████| 469/469 [00:30<00:00, 15.29it/s]\n",
      "100%|██████████| 469/469 [00:29<00:00, 15.86it/s]\n",
      "100%|██████████| 469/469 [00:29<00:00, 15.90it/s]\n",
      "100%|██████████| 469/469 [00:29<00:00, 16.05it/s]\n",
      "100%|██████████| 469/469 [00:29<00:00, 15.81it/s]\n"
     ]
    },
    {
     "name": "stdout",
     "output_type": "stream",
     "text": [
      "AL 3gpu_6Trlayers:29.7295±0.4925\n"
     ]
    },
    {
     "name": "stderr",
     "output_type": "stream",
     "text": [
      "100%|██████████| 469/469 [00:46<00:00, 10.13it/s]\n",
      "100%|██████████| 469/469 [00:46<00:00, 10.07it/s]\n",
      "100%|██████████| 469/469 [00:46<00:00, 10.09it/s]\n",
      "100%|██████████| 469/469 [00:46<00:00, 10.10it/s]\n",
      "100%|██████████| 469/469 [00:46<00:00, 10.11it/s]\n"
     ]
    },
    {
     "name": "stdout",
     "output_type": "stream",
     "text": [
      "AL 3gpu_9Trlayers:46.4238±0.0909\n"
     ]
    },
    {
     "name": "stderr",
     "output_type": "stream",
     "text": [
      "100%|██████████| 469/469 [01:02<00:00,  7.46it/s]\n",
      "100%|██████████| 469/469 [01:03<00:00,  7.44it/s]\n",
      "100%|██████████| 469/469 [01:02<00:00,  7.47it/s]\n",
      "100%|██████████| 469/469 [01:02<00:00,  7.45it/s]\n",
      "100%|██████████| 469/469 [01:02<00:00,  7.50it/s]\n"
     ]
    },
    {
     "name": "stdout",
     "output_type": "stream",
     "text": [
      "AL 3gpu_12Trlayers:62.8343±0.1652\n"
     ]
    },
    {
     "name": "stderr",
     "output_type": "stream",
     "text": [
      "100%|██████████| 469/469 [00:14<00:00, 31.57it/s]\n",
      "100%|██████████| 469/469 [00:14<00:00, 31.57it/s]\n",
      "100%|██████████| 469/469 [00:14<00:00, 32.22it/s]\n",
      "100%|██████████| 469/469 [00:14<00:00, 31.79it/s]\n",
      "100%|██████████| 469/469 [00:14<00:00, 32.26it/s]\n"
     ]
    },
    {
     "name": "stdout",
     "output_type": "stream",
     "text": [
      "AL 4gpu_4Trlayers:14.7134±0.1404\n"
     ]
    },
    {
     "name": "stderr",
     "output_type": "stream",
     "text": [
      "100%|██████████| 469/469 [00:41<00:00, 11.17it/s]\n",
      "100%|██████████| 469/469 [00:43<00:00, 10.89it/s]\n",
      "100%|██████████| 469/469 [00:43<00:00, 10.89it/s]\n",
      "100%|██████████| 469/469 [00:42<00:00, 10.91it/s]\n",
      "100%|██████████| 469/469 [00:42<00:00, 10.93it/s]\n"
     ]
    },
    {
     "name": "stdout",
     "output_type": "stream",
     "text": [
      "AL 4gpu_8Trlayers:42.7969±0.4148\n"
     ]
    },
    {
     "name": "stderr",
     "output_type": "stream",
     "text": [
      "100%|██████████| 469/469 [01:04<00:00,  7.26it/s]\n",
      "100%|██████████| 469/469 [01:04<00:00,  7.30it/s]\n",
      "100%|██████████| 469/469 [01:03<00:00,  7.35it/s]\n",
      "100%|██████████| 469/469 [01:04<00:00,  7.33it/s]\n",
      "100%|██████████| 469/469 [01:04<00:00,  7.31it/s]\n"
     ]
    },
    {
     "name": "stdout",
     "output_type": "stream",
     "text": [
      "AL 4gpu_12Trlayers:64.1596±0.2738\n"
     ]
    },
    {
     "name": "stderr",
     "output_type": "stream",
     "text": [
      "100%|██████████| 469/469 [00:20<00:00, 22.74it/s]\n",
      "100%|██████████| 469/469 [00:21<00:00, 21.79it/s]\n",
      "100%|██████████| 469/469 [00:21<00:00, 21.57it/s]\n",
      "100%|██████████| 469/469 [00:21<00:00, 21.34it/s]\n",
      "100%|██████████| 469/469 [00:21<00:00, 21.96it/s]\n"
     ]
    },
    {
     "name": "stdout",
     "output_type": "stream",
     "text": [
      "AL 5gpu_5Trlayers:21.4467±0.4590\n"
     ]
    },
    {
     "name": "stderr",
     "output_type": "stream",
     "text": [
      "100%|██████████| 469/469 [00:56<00:00,  8.35it/s]\n",
      "100%|██████████| 469/469 [00:56<00:00,  8.26it/s]\n",
      "100%|██████████| 469/469 [00:56<00:00,  8.29it/s]\n",
      "100%|██████████| 469/469 [00:56<00:00,  8.33it/s]\n",
      "100%|██████████| 469/469 [00:56<00:00,  8.29it/s]\n"
     ]
    },
    {
     "name": "stdout",
     "output_type": "stream",
     "text": [
      "AL 5gpu_10Trlayers:56.4686±0.2248\n"
     ]
    },
    {
     "name": "stderr",
     "output_type": "stream",
     "text": [
      "100%|██████████| 469/469 [00:26<00:00, 17.66it/s]\n",
      "100%|██████████| 469/469 [00:26<00:00, 17.60it/s]\n",
      "100%|██████████| 469/469 [00:26<00:00, 17.73it/s]\n",
      "100%|██████████| 469/469 [00:26<00:00, 17.53it/s]\n",
      "100%|██████████| 469/469 [00:27<00:00, 16.80it/s]\n"
     ]
    },
    {
     "name": "stdout",
     "output_type": "stream",
     "text": [
      "AL 6gpu_6Trlayers:26.8651±0.5387\n"
     ]
    },
    {
     "name": "stderr",
     "output_type": "stream",
     "text": [
      "100%|██████████| 469/469 [01:08<00:00,  6.86it/s]\n",
      "100%|██████████| 469/469 [01:08<00:00,  6.89it/s]\n",
      "100%|██████████| 469/469 [01:08<00:00,  6.83it/s]\n",
      "100%|██████████| 469/469 [01:08<00:00,  6.84it/s]\n",
      "100%|██████████| 469/469 [01:08<00:00,  6.82it/s]"
     ]
    },
    {
     "name": "stdout",
     "output_type": "stream",
     "text": [
      "AL 6gpu_12Trlayers:68.4918±0.2329\n"
     ]
    },
    {
     "name": "stderr",
     "output_type": "stream",
     "text": [
      "\n"
     ]
    }
   ],
   "source": [
    "bp, al = Scale()"
   ]
  },
  {
   "attachments": {},
   "cell_type": "markdown",
   "metadata": {},
   "source": [
    "# Preview"
   ]
  },
  {
   "cell_type": "code",
   "execution_count": 2,
   "metadata": {},
   "outputs": [],
   "source": [
    "def CalculateSpeedUp(time):\n",
    "    speedup = []\n",
    "    for t in time:\n",
    "        speedup.append(time[0]/t)\n",
    "    return speedup"
   ]
  },
  {
   "cell_type": "code",
   "execution_count": 10,
   "metadata": {},
   "outputs": [],
   "source": [
    "def plotGraph(bp, al, title):\n",
    "    \n",
    "    if len(bp)==6:\n",
    "        gpu = [1, 2, 3, 4, 5, 6]\n",
    "        xlabel = \"Number of GPUs & task size\"\n",
    "    else:\n",
    "        gpu = [1, 2, 3, 4, 6]\n",
    "        xlabel = \"Number of GPUs\"\n",
    "    \n",
    "    fig, axs = plt.subplots(2, 1, figsize=(8, 6))\n",
    "    fig.suptitle(title)\n",
    "\n",
    "    # 繪製子圖A\n",
    "    axs[0].plot(gpu, bp, label=\"BP\")\n",
    "    axs[0].plot(gpu, al, label=\"AL\")\n",
    "    axs[0].set_ylabel('Execution Time')\n",
    "    axs[0].set_xlabel(xlabel)\n",
    "    axs[0].legend()\n",
    "\n",
    "    # 繪製子圖B\n",
    "    axs[1].plot(gpu, CalculateSpeedUp(bp), label=\"BP\")\n",
    "    axs[1].plot(gpu, CalculateSpeedUp(al), label=\"AL\")\n",
    "    axs[1].set_ylabel('Speedup')\n",
    "    axs[1].set_xlabel(xlabel)\n",
    "    axs[1].legend()\n",
    "\n",
    "    # 顯示圖表\n",
    "    plt.savefig(f\"{title}.pdf\", format=\"pdf\")\n",
    "    plt.show()   "
   ]
  },
  {
   "cell_type": "code",
   "execution_count": 4,
   "metadata": {},
   "outputs": [],
   "source": [
    "def readResults(filename):\n",
    "    \n",
    "    df = pd.read_csv(filename)\n",
    "    bp = []\n",
    "    al = []\n",
    "    for _, row in df.iterrows():\n",
    "        bp.append(float(row[\"bp\"].split(\"±\")[0]))\n",
    "        al.append(float(row[\"al\"].split(\"±\")[0]))\n",
    "        \n",
    "    plotGraph(bp, al, filename.split(\".csv\")[0])        "
   ]
  },
  {
   "cell_type": "code",
   "execution_count": 5,
   "metadata": {},
   "outputs": [],
   "source": [
    "def getMean(string):\n",
    "    return float(string.split(\"±\")[0])"
   ]
  },
  {
   "attachments": {},
   "cell_type": "markdown",
   "metadata": {},
   "source": [
    "# WeakScale"
   ]
  },
  {
   "cell_type": "code",
   "execution_count": 11,
   "metadata": {},
   "outputs": [],
   "source": [
    "def WeakScalePreview():\n",
    "    '''\n",
    "    Graph 1: Time/Speedup(y) with different number of layers/gpus(x)\n",
    "    Data:\n",
    "    (1,1),(2,2),(3,3),(4,4),(5,5),(6,6)\n",
    "\n",
    "    Chart 1: Time/Speedup(BPvsAL) with different number of layers/gpus\n",
    "\n",
    "    Graph 2: Different number of gpus(label), Time(y) with different number of layers(x)\n",
    "    Data:\n",
    "    (1,1~12)\n",
    "    (2,2~12)\n",
    "    (3,3~12)\n",
    "    (6,6~12)\n",
    "    '''\n",
    "\n",
    "    data = pd.read_csv(\"Scale.csv\", index_col = 0).to_dict(\"index\")\n",
    "\n",
    "    # graph 1 \n",
    "    bp = []\n",
    "    al = []\n",
    "    for i in range(1,7,1):\n",
    "        key = f\"{i}gpu_{i}Trlayers\"\n",
    "        bp.append(getMean(data[key][\"bp\"]))\n",
    "        al.append(getMean(data[key][\"al\"]))\n",
    "    plotGraph(bp, al, \"WeakScale\")\n",
    "\n",
    "    # chart 1\n",
    "    bpSpeedup = CalculateSpeedUp(bp)\n",
    "    alSpeedup = CalculateSpeedUp(al)\n",
    "    bp = []\n",
    "    al = []\n",
    "    gpu = []\n",
    "    speedup = []\n",
    "    for i in range(1,7,1):\n",
    "        key = f\"{i}gpu_{i}Trlayers\"\n",
    "        bp.append(data[key][\"bp\"])\n",
    "        al.append(data[key][\"al\"])\n",
    "        gpu.append(i)\n",
    "        speedup.append(getMean(data[key][\"bp\"]) / getMean(data[key][\"al\"]))\n",
    "    res = {\n",
    "        \"Number of encoder & GPUs \":gpu,\n",
    "        \"BP\":bp,\n",
    "        \"AL\":al,\n",
    "        \"SpeedUp(BP[0] / BP[i])\":bpSpeedup,\n",
    "        \"SpeedUp(AL[0] / AL[i])\":alSpeedup,\n",
    "        \"SpeedUp(BP / AL)\":speedup\n",
    "    }\n",
    "    print(pd.DataFrame(res).to_latex(index=False))\n",
    "\n",
    "    # graph 2\n",
    "    bp = defaultdict(list)\n",
    "    al = defaultdict(list)\n",
    "    for i in range(1,7,1):\n",
    "        for j in range(i, 13, i):\n",
    "            key = f\"{i}gpu_{j}Trlayers\"\n",
    "            bp[i].append(getMean(data[key][\"bp\"]))\n",
    "            al[i].append(getMean(data[key][\"al\"]))\n",
    "    \n",
    "    plt.plot([i for i in range(1,13,1)], bp[1], label=\"BP with 1GPU & task size m\", marker=\".\")\n",
    "    plt.plot([i for i in range(2,13,2)], bp[2], label=\"BP with 2GPU & task size 2m\", marker=\".\")\n",
    "    plt.plot([i for i in range(3,13,3)], bp[3], label=\"BP with 3GPU & task size 3m\", marker=\".\")\n",
    "    plt.plot([i for i in range(6,13,6)], bp[6], label=\"BP with 6GPU & task size 6m\", marker=\".\")\n",
    "    plt.plot([i for i in range(1,13,1)], al[1], label=\"AL with 1GPU & task size m\", marker=\"X\")\n",
    "    plt.plot([i for i in range(2,13,2)], al[2], label=\"AL with 2GPU & task size 2m\", marker=\"X\")\n",
    "    plt.plot([i for i in range(3,13,3)], al[3], label=\"AL with 3GPU & task size 3m\", marker=\"X\")\n",
    "    plt.plot([i for i in range(6,13,6)], al[6], label=\"AL with 6GPU & task size 6m\", marker=\"X\")\n",
    "    plt.ylabel('Execution Time')\n",
    "    plt.xlabel('Number of Encoders')\n",
    "    plt.legend()\n",
    "    plt.savefig(\"WeakScale2.pdf\", format=\"pdf\")\n",
    "    plt.show()"
   ]
  },
  {
   "cell_type": "code",
   "execution_count": 12,
   "metadata": {},
   "outputs": [
    {
     "data": {
      "image/png": "[encoded data removed]",
      "text/plain": [
       "<Figure size 576x432 with 2 Axes>"
      ]
     },
     "metadata": {
      "needs_background": "light"
     },
     "output_type": "display_data"
    },
    {
     "name": "stdout",
     "output_type": "stream",
     "text": [
      "\\begin{tabular}{rllrrr}\n",
      "\\toprule\n",
      " Number of encoder \\& GPUs  &             BP &             AL &  SpeedUp(BP[0] / BP[i]) &  SpeedUp(AL[0] / AL[i]) &  SpeedUp(BP / AL) \\\\\n",
      "\\midrule\n",
      "                         1 &  8.3734±0.0970 &  7.0983±0.0601 &                1.000000 &                1.000000 &          1.179635 \\\\\n",
      "                         2 & 15.2545±0.0994 &  8.6187±0.1733 &                0.548913 &                0.823593 &          1.769930 \\\\\n",
      "                         3 & 23.5520±0.1383 & 11.8783±1.0310 &                0.355528 &                0.597586 &          1.982775 \\\\\n",
      "                         4 & 30.6141±0.4868 & 14.7134±0.1404 &                0.273514 &                0.482438 &          2.080695 \\\\\n",
      "                         5 & 39.7588±0.3489 & 21.4467±0.4590 &                0.210605 &                0.330974 &          1.853842 \\\\\n",
      "                         6 & 46.8407±0.1325 & 26.8651±0.5387 &                0.178763 &                0.264220 &          1.743552 \\\\\n",
      "\\bottomrule\n",
      "\\end{tabular}\n",
      "\n"
     ]
    },
    {
     "data": {
      "image/png": "[encoded data removed]",
      "text/plain": [
       "<Figure size 432x288 with 1 Axes>"
      ]
     },
     "metadata": {
      "needs_background": "light"
     },
     "output_type": "display_data"
    }
   ],
   "source": [
    "WeakScalePreview()"
   ]
  },
  {
   "cell_type": "code",
   "execution_count": 8,
   "metadata": {},
   "outputs": [],
   "source": [
    "def StrongScalePreview():\n",
    "    '''\n",
    "    Graph 1: Time/Speedup(y) with different number of gpus(x)\n",
    "    Data:\n",
    "    (1,12),(2,12),(3,12),(4,12),(6,12)\n",
    "\n",
    "    Chart 1: Time/Speedup(BPvsAL) with different number of gpus\n",
    "\n",
    "    Graph 2: Different number of layers(label), Time(y) with different number of gpus(x)\n",
    "    Data:\n",
    "    (1,4), (2,4), (4,4)\n",
    "    (1,6), (2,6), (3,6), (6,6)\n",
    "    (1,8), (2,8), (4,8)\n",
    "    (1,12), (2,12), (3,12), (4,12), (6,12)\n",
    "    '''\n",
    "\n",
    "    data = pd.read_csv(\"Scale.csv\", index_col = 0).to_dict(\"index\")\n",
    "\n",
    "    # graph 1\n",
    "    bp = []\n",
    "    al = []\n",
    "    for i in [1,2,3,4,6]:\n",
    "        key = f\"{i}gpu_12Trlayers\"\n",
    "        bp.append(getMean(data[key][\"bp\"]))\n",
    "        al.append(getMean(data[key][\"al\"]))\n",
    "    plotGraph(bp, al, \"StrongScale\")\n",
    "\n",
    "    # chart 1\n",
    "    bpSpeedup = CalculateSpeedUp(bp)\n",
    "    alSpeedup = CalculateSpeedUp(al)\n",
    "    bp = []\n",
    "    al = []\n",
    "    gpu = []\n",
    "    speedup = []\n",
    "    for i in [1,2,3,4,6]:\n",
    "        key = f\"{i}gpu_12Trlayers\"\n",
    "        bp.append(data[key][\"bp\"])\n",
    "        al.append(data[key][\"al\"])\n",
    "        gpu.append(i)\n",
    "        speedup.append(getMean(data[key][\"bp\"]) / getMean(data[key][\"al\"]))\n",
    "    res = {\n",
    "        \"Number of gpus\":gpu,\n",
    "        \"BP\":bp,\n",
    "        \"AL\":al,\n",
    "        \"SpeedUp(BP[0] / BP[i])\":bpSpeedup,\n",
    "        \"SpeedUp(AL[0] / AL[i])\":alSpeedup,\n",
    "        \"SpeedUp(BP / AL)\":speedup\n",
    "    }\n",
    "    print(pd.DataFrame(res).to_latex(index=False))\n",
    "\n",
    "    # graph 2\n",
    "    bp = defaultdict(list)\n",
    "    al = defaultdict(list)\n",
    "    for i in [4,6,8,12]:\n",
    "        for j in [1,2,3,4,6]:\n",
    "            if i % j == 0:\n",
    "                key = f\"{j}gpu_{i}Trlayers\"\n",
    "                bp[i].append(getMean(data[key][\"bp\"]))\n",
    "                al[i].append(getMean(data[key][\"al\"]))\n",
    "    \n",
    "    plt.plot([1,2,4], bp[4], label=\"BP with 4Layers\", marker=\".\")\n",
    "    plt.plot([1,2,3,6], bp[6], label=\"BP with 6Layers\", marker=\".\")\n",
    "    plt.plot([1,2,4], bp[8], label=\"BP with 8Layers\", marker=\".\")\n",
    "    plt.plot([1,2,3,4,6], bp[12], label=\"BP with 12Layers\", marker=\".\")\n",
    "    plt.plot([1,2,4], al[4], label=\"AL with 4Layers\", marker=\"X\")\n",
    "    plt.plot([1,2,3,6], al[6], label=\"AL with 6Layers\", marker=\"X\")\n",
    "    plt.plot([1,2,4], al[8], label=\"AL with 8Layers\", marker=\"X\")\n",
    "    plt.plot([1,2,3,4,6], al[12], label=\"AL with 12Layers\", marker=\"X\")\n",
    "    plt.ylabel('Execution Time')\n",
    "    plt.xlabel('Number of GPUs')\n",
    "    plt.legend()\n",
    "    plt.savefig(\"StrongScale2.pdf\", format=\"pdf\")\n",
    "    plt.show()"
   ]
  },
  {
   "cell_type": "code",
   "execution_count": 9,
   "metadata": {},
   "outputs": [
    {
     "data": {
      "image/png": "[encoded data removed]",
      "text/plain": [
       "<Figure size 576x432 with 2 Axes>"
      ]
     },
     "metadata": {
      "needs_background": "light"
     },
     "output_type": "display_data"
    },
    {
     "name": "stdout",
     "output_type": "stream",
     "text": [
      "\\begin{tabular}{rllrrr}\n",
      "\\toprule\n",
      " Number of gpus &             BP &             AL &  SpeedUp(BP[0] / BP[i]) &  SpeedUp(AL[0] / AL[i]) &  SpeedUp(BP / AL) \\\\\n",
      "\\midrule\n",
      "              1 & 76.4952±0.3955 & 66.0528±0.2424 &                1.000000 &                1.000000 &          1.158092 \\\\\n",
      "              2 & 76.6917±0.1794 & 62.5702±0.2231 &                0.997438 &                1.055659 &          1.225691 \\\\\n",
      "              3 & 77.9079±0.2478 & 62.8343±0.1652 &                0.981867 &                1.051222 &          1.239894 \\\\\n",
      "              4 & 82.6394±0.2389 & 64.1596±0.2738 &                0.925650 &                1.029508 &          1.288029 \\\\\n",
      "              6 & 86.1056±1.6430 & 68.4918±0.2329 &                0.888388 &                0.964390 &          1.257167 \\\\\n",
      "\\bottomrule\n",
      "\\end{tabular}\n",
      "\n"
     ]
    },
    {
     "data": {
      "image/png": "[encoded data removed]",
      "text/plain": [
       "<Figure size 432x288 with 1 Axes>"
      ]
     },
     "metadata": {
      "needs_background": "light"
     },
     "output_type": "display_data"
    }
   ],
   "source": [
    "StrongScalePreview()"
   ]
  },
  {
   "cell_type": "code",
   "execution_count": null,
   "metadata": {},
   "outputs": [],
   "source": []
  }
 ],
 "metadata": {
  "kernelspec": {
   "display_name": "Python 3 (ipykernel)",
   "language": "python",
   "name": "python3"
  },
  "language_info": {
   "codemirror_mode": {
    "name": "ipython",
    "version": 3
   },
   "file_extension": ".py",
   "mimetype": "text/x-python",
   "name": "python",
   "nbconvert_exporter": "python",
   "pygments_lexer": "ipython3",
   "version": "3.8.8"
  },
  "vscode": {
   "interpreter": {
    "hash": "76c4f3622f288d0f3c2e376232f2456f5c5e87406eab531441c110fa1d124550"
   }
  }
 },
 "nbformat": 4,
 "nbformat_minor": 2
}
