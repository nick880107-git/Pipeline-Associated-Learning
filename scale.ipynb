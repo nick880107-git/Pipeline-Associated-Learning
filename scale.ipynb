{
 "cells": [
  {
   "attachments": {},
   "cell_type": "markdown",
   "metadata": {},
   "source": [
    "# Import Packages"
   ]
  },
  {
   "cell_type": "code",
   "execution_count": 1,
   "metadata": {},
   "outputs": [
    {
     "name": "stderr",
     "output_type": "stream",
     "text": [
      "[nltk_data] Downloading package stopwords to\n",
      "[nltk_data]     /home/u3933826/nltk_data...\n",
      "[nltk_data]   Package stopwords is already up-to-date!\n"
     ]
    },
    {
     "data": {
      "text/plain": [
       "True"
      ]
     },
     "execution_count": 1,
     "metadata": {},
     "output_type": "execute_result"
    }
   ],
   "source": [
    "import nltk\n",
    "nltk.download('stopwords')"
   ]
  },
  {
   "cell_type": "code",
   "execution_count": 2,
   "metadata": {},
   "outputs": [],
   "source": [
    "from ALPackage.transformer import EMBALLayer, TransformerEncoderALLayer, TransformerEncoder\n",
    "from utils import get_word_vector, get_nlp_data, set_device\n",
    "from tqdm import tqdm\n",
    "import time\n",
    "import torch.nn as nn\n",
    "import torch\n",
    "import threading"
   ]
  },
  {
   "cell_type": "code",
   "execution_count": 13,
   "metadata": {},
   "outputs": [],
   "source": [
    "import matplotlib.pyplot as plt\n",
    "import numpy as np\n",
    "import pandas as pd\n",
    "from collections import defaultdict"
   ]
  },
  {
   "attachments": {},
   "cell_type": "markdown",
   "metadata": {},
   "source": [
    "# Prepare data"
   ]
  },
  {
   "cell_type": "code",
   "execution_count": 4,
   "metadata": {},
   "outputs": [],
   "source": [
    "class Args:\n",
    "    def __init__(self, dataset, max_len, min_len = 1):\n",
    "        self.dataset = dataset\n",
    "        self.class_num = None\n",
    "        self.batch_size = 256        \n",
    "        self.max_len = max_len\n",
    "        self.min_len = min_len\n",
    "        self.vocab_size = 30000\n",
    "        self.pretrained_embedding = None\n",
    "        self.pretrained_model = None\n",
    "        self.embedding_dim = 300\n",
    "        self.x_hid = 256\n",
    "        self.y_hid = 128\n",
    "        self.n_heads = 6       \n",
    "        self.dropout = 0.3\n",
    "        self.lr = 0.00025\n",
    "        self.epochs = 5\n",
    "        self.act = nn.Tanh()\n",
    "\n",
    "    def get_filename(self):\n",
    "        name = f\"{self.dataset},{self.batch_size},{self.max_len},{self.min_len},{self.x_hid},{self.y_hid}\"\n",
    "        return name\n",
    "    \n",
    "    def set_pretrained(self, vocab, emb):\n",
    "        self.pretrained_embedding = get_word_vector(vocab, emb)\n",
    "        self.pretrained_model = emb"
   ]
  },
  {
   "cell_type": "code",
   "execution_count": 5,
   "metadata": {},
   "outputs": [
    {
     "name": "stdout",
     "output_type": "stream",
     "text": [
      "|========================= Load data:ag_news ========================================================|\n"
     ]
    },
    {
     "name": "stderr",
     "output_type": "stream",
     "text": [
      "Found cached dataset ag_news (/home/u3933826/.cache/huggingface/datasets/ag_news/default/0.0.0/bc2bcb40336ace1a0374767fc29bb0296cdaf8a6da7298436239c54d79180548)\n",
      "Found cached dataset ag_news (/home/u3933826/.cache/huggingface/datasets/ag_news/default/0.0.0/bc2bcb40336ace1a0374767fc29bb0296cdaf8a6da7298436239c54d79180548)\n"
     ]
    },
    {
     "name": "stdout",
     "output_type": "stream",
     "text": [
      "|========================= Preprocessing ============================================================|\n",
      "Original Data: 120000\n",
      "Valid Data: 120000\n",
      "total count words 102019\n",
      "vocab size 30000\n"
     ]
    },
    {
     "name": "stderr",
     "output_type": "stream",
     "text": [
      "loading glove vocabs...: 100%|██████████| 400000/400000 [00:05<00:00, 72115.11it/s]\n"
     ]
    },
    {
     "name": "stdout",
     "output_type": "stream",
     "text": [
      "found 26754 words in glove\n"
     ]
    }
   ],
   "source": [
    "args = Args('ag_news', 128)\n",
    "train_loader, test_loader, class_num, vocab = get_nlp_data(args)\n",
    "args.class_num = class_num\n",
    "args.set_pretrained(vocab, emb='glove')"
   ]
  },
  {
   "attachments": {},
   "cell_type": "markdown",
   "metadata": {},
   "source": [
    "# Scale Test helper"
   ]
  },
  {
   "cell_type": "code",
   "execution_count": 6,
   "metadata": {},
   "outputs": [],
   "source": [
    "class Transformer(nn.Module):\n",
    "    def __init__(self, args, tr_num):\n",
    "        super().__init__()\n",
    "        self.seq = nn.ModuleList()\n",
    "        if args.pretrained_embedding == None:\n",
    "            self.seq.append(nn.Embedding(args.vocab_size, args.embedding_dim))\n",
    "        else:\n",
    "            self.seq.append(nn.Embedding.from_pretrained(args.pretrained_embedding, freeze=False))\n",
    "        for _ in range(tr_num):        \n",
    "            self.seq.append(TransformerEncoder(args.embedding_dim, args.x_hid, args.n_heads, 1, args.dropout))\n",
    "        self.seq.append(nn.Sequential(\n",
    "            nn.Linear(args.embedding_dim, args.class_num),\n",
    "            nn.LogSoftmax(dim=1)\n",
    "        ))\n",
    "        self.device = [\"cpu\" for _ in range(len(self.seq))]\n",
    "\n",
    "    def forward(self, x):\n",
    "        mask = self.get_mask(x)\n",
    "\n",
    "        # 1. Feed embedding layer\n",
    "        x = self.seq[0](x.to(self.device[0]))\n",
    "\n",
    "        # 2. Feed Transformer\n",
    "        for i in range(1, len(self.seq)-1, 1):\n",
    "            x = self.seq[i](x.to(self.device[i]), mask.to(self.device[i]))\n",
    "        \n",
    "        # 3. Feed fc layer\n",
    "        x = x.to(self.device[-1])\n",
    "        mask = mask.to(self.device[-1])\n",
    "        feat = torch.sum(x*mask.unsqueeze(-1), dim=1) / torch.sum(mask, -1, keepdim=True)\n",
    "        return self.seq[-1](feat)\n",
    "\n",
    "    def get_mask(self, x):\n",
    "        pad_mask = ~(x == 0)\n",
    "        return pad_mask"
   ]
  },
  {
   "cell_type": "code",
   "execution_count": 7,
   "metadata": {},
   "outputs": [],
   "source": [
    "class TransformerAL(nn.Module):\n",
    "    def __init__(self, args, tr_num):\n",
    "        super().__init__()\n",
    "        self.seq = nn.ModuleList()\n",
    "        self.seq.append(EMBALLayer(args.vocab_size, args.embedding_dim, args.class_num, args.y_hid, args.act, args.lr, args.pretrained_embedding))\n",
    "        for _ in range(tr_num):\n",
    "            self.seq.append(TransformerEncoderALLayer(args.embedding_dim, args.x_hid, args.y_hid, args.y_hid, args.act, args.lr, args.n_heads, 1, args.dropout))\n",
    "        self.device = [\"cpu\" for i in range(len(self.seq))]\n",
    "\n",
    "    def forward(self, x, y):\n",
    "        mask = self.get_mask(x)\n",
    "\n",
    "        # 1. Feed embedding layer\n",
    "        x, y = self.seq[0](x.to(self.device[0]), y.to(self.device[0]))\n",
    "        \n",
    "        # 2. Feed Transformer\n",
    "        for i in range(1, len(self.seq), 1):\n",
    "            inputs = (x.to(self.device[i]), mask.to(self.device[i]))\n",
    "            y = y.to(self.device[i])\n",
    "            x, y = self.seq[i](inputs, y)\n",
    "\n",
    "    def backward(self):\n",
    "        for i in range(len(self.seq)):\n",
    "            self.seq[i].backward()\n",
    "\n",
    "    def update(self):\n",
    "        for i in range(len(self.seq)):\n",
    "            self.seq[i].update()\n",
    "\n",
    "    def thread_backward_and_update(self):\n",
    "        threads = []\n",
    "        for i in range(len(self.seq)):\n",
    "            threads.append(threading.Thread(target=self.seq[i].backward_and_update))\n",
    "            threads[i].start()\n",
    "        for i in range(len(self.seq)):\n",
    "            threads[i].join()\n",
    "\n",
    "    def thread_forward_backward_and_update(self, x, y):\n",
    "        threads = []\n",
    "        mask = self.get_mask(x)\n",
    "\n",
    "        # 1. Feed embedding layer\n",
    "        x, y = self.seq[0](x.to(self.device[0]), y.to(self.device[0]))\n",
    "        threads.append(threading.Thread(target=self.seq[0].backward_and_update))\n",
    "        threads[0].start()\n",
    "\n",
    "        # 2. Feed Transformer\n",
    "        for i in range(1, len(self.seq), 1):\n",
    "            inputs = (x.to(self.device[i]), mask.to(self.device[i]))\n",
    "            y = y.to(self.device[i])\n",
    "            x, y = self.seq[i](inputs, y)\n",
    "            threads.append(threading.Thread(target=self.seq[i].backward_and_update))\n",
    "            threads[i].start()\n",
    "        \n",
    "        for i in range(len(self.seq)):\n",
    "            threads[i].join()\n",
    "    \n",
    "    def loss(self):\n",
    "        loss = {\n",
    "            \"enc_loss\": [],\n",
    "            \"ae_loss\": []\n",
    "        }\n",
    "        for i in range(len(self.seq)):\n",
    "            enc_loss, ae_loss = self.seq[i].loss()\n",
    "            loss['enc_loss'].append(enc_loss.item())\n",
    "            loss['ae_loss'].append(ae_loss.item())\n",
    "        return loss\n",
    "\n",
    "    def inference(self, x):\n",
    "        mask = self.get_mask(x)\n",
    "        x = self.seq[0].inference(x.to(self.device[0]), 'f')\n",
    "        for i in range(1, len(self.seq), 1):\n",
    "            inputs = (x.to(self.device[i]), mask.to(self.device[i]))\n",
    "            x = self.seq[i].inference(inputs, 'f')\n",
    "        inputs = (x, mask.to(self.device[i]))\n",
    "        x = self.seq[-1].inference(inputs, 'b')\n",
    "        for i in range(len(self.seq)-1, -1, -1):\n",
    "            x = x.to(self.device[i])\n",
    "            x = self.seq[i].inference(x, 'h')\n",
    "        return x\n",
    "\n",
    "    def get_mask(self, x):\n",
    "        pad_mask = ~(x == 0)\n",
    "        return pad_mask"
   ]
  },
  {
   "attachments": {},
   "cell_type": "markdown",
   "metadata": {},
   "source": [
    "# Trainer"
   ]
  },
  {
   "cell_type": "code",
   "execution_count": 18,
   "metadata": {},
   "outputs": [],
   "source": [
    "def Trainer(args, mode, device, tr_num):\n",
    "    \n",
    "    train_time = []\n",
    "    \n",
    "    if mode == \"BP\":\n",
    "        model = Transformer(args, tr_num)\n",
    "        set_device(model, device)\n",
    "        optimizer = torch.optim.Adam(model.parameters(), args.lr)\n",
    "        loss_fn = nn.NLLLoss()\n",
    "        \n",
    "        for epoch in range(args.epochs):\n",
    "            model.train()\n",
    "            torch.cuda.synchronize()\n",
    "            start = time.time()\n",
    "            for inputs, labels in tqdm(train_loader):            \n",
    "                labels = labels.to(device[-1])\n",
    "                pred = model(inputs)\n",
    "                loss_fn(pred, labels).backward()\n",
    "                optimizer.step()\n",
    "                optimizer.zero_grad()\n",
    "            torch.cuda.synchronize()\n",
    "            end = time.time()\n",
    "            train_time.append(end-start)\n",
    "                \n",
    "    elif mode == \"AL\":\n",
    "        model = TransformerAL(args, tr_num)\n",
    "        set_device(model, device)\n",
    "        for epoch in range(args.epochs):\n",
    "            model.train()\n",
    "            torch.cuda.synchronize()\n",
    "            start = time.time()\n",
    "            for inputs, labels in tqdm(train_loader):\n",
    "                y = torch.nn.functional.one_hot(labels, args.class_num).float()\n",
    "                model.thread_forward_backward_and_update(inputs, y)\n",
    "            torch.cuda.synchronize()\n",
    "            end = time.time()\n",
    "            train_time.append(end-start)\n",
    "    \n",
    "    return np.mean(train_time), np.std(train_time)     "
   ]
  },
  {
   "attachments": {},
   "cell_type": "markdown",
   "metadata": {},
   "source": [
    "# Scaling Test"
   ]
  },
  {
   "cell_type": "code",
   "execution_count": 19,
   "metadata": {},
   "outputs": [],
   "source": [
    "def Scale():\n",
    "    \n",
    "    '''\n",
    "    Weak: Add layers, add GPU\n",
    "    x: number of layers\n",
    "    y: execution time\n",
    "    method: gpu_num\n",
    "\n",
    "    1 gpu with 1x layers\n",
    "    2 gpu with 2x layers\n",
    "    ...\n",
    "    6 gpu with 6x layers \n",
    "\n",
    "    ===================================\n",
    "\n",
    "    Strong: Fix layers, add gpu\n",
    "    x: number of gpu\n",
    "    y: execution time\n",
    "    method: number of layers\n",
    "\n",
    "    6 layers with 1, 2, 3, 6 gpus\n",
    "    12 layers with 1, 2, 3, 4, 6 gpus\n",
    "    '''    \n",
    "    \n",
    "    gpus = {\n",
    "        \"1\":[[0],[0,0],[0,0,0],[0,0,0,0],[0,0,0,0,0],[0,0,0,0,0,0],\n",
    "             [0,0,0,0,0,0,0],[0,0,0,0,0,0,0,0],[0,0,0,0,0,0,0,0,0],[0,0,0,0,0,0,0,0,0,0],\n",
    "             [0,0,0,0,0,0,0,0,0,0,0],[0,0,0,0,0,0,0,0,0,0,0,0]],\n",
    "        \"2\":[[0,1],[0,1,0,1],[0,1,0,1,0,1],[0,1,0,1,0,1,0,1],[0,1,0,1,0,1,0,1,0,1],[0,1,0,1,0,1,0,1,0,1,0,1]],\n",
    "        \"3\":[[0,1,2],[0,1,2,0,1,2],[0,1,2,0,1,2,0,1,2],[0,1,2,0,1,2,0,1,2,0,1,2]],\n",
    "        \"4\":[[0,1,2,3],[0,1,2,3,0,1,2,3],[0,1,2,3,0,1,2,3,0,1,2,3]],\n",
    "        \"5\":[[0,1,2,3,4],[0,1,2,3,4,0,1,2,3,4]],\n",
    "        \"6\":[[0,1,2,3,4,5],[0,1,2,3,4,5,0,1,2,3,4,5]]\n",
    "    }\n",
    "\n",
    "    key = []\n",
    "    bp = []\n",
    "    al = []\n",
    "    \n",
    "    try:\n",
    "        mode = \"BP\"\n",
    "        for gpu, layers in gpus.items():\n",
    "            for layer in layers:\n",
    "                n = len(layer)\n",
    "                device = ['cuda:0']\n",
    "                for l in layer:\n",
    "                    device.append(f\"cuda:{l}\")\n",
    "                device.append(f\"cuda:{layer[-1]}\")\n",
    "                mean, std = Trainer(args, mode, device, n)\n",
    "                bp.append(f\"{mean:.4f}±{std:.4f}\")\n",
    "                print(f\"BP {gpu}gpu_{n}Trlayers:{mean:.4f}±{std:.4f}\")\n",
    "            \n",
    "        mode = \"AL\"    \n",
    "        for gpu, layers in gpus.items():\n",
    "            for layer in layers:\n",
    "                n = len(layer)\n",
    "                device = ['cuda:0']\n",
    "                for l in layer:\n",
    "                    device.append(f\"cuda:{l}\")\n",
    "                mean, std = Trainer(args, mode, device, n)\n",
    "                al.append(f\"{mean:.4f}±{std:.4f}\")\n",
    "                print(f\"AL {gpu}gpu_{n}Trlayers:{mean:.4f}±{std:.4f}\")\n",
    "\n",
    "        for gpu, layers in gpus.items():\n",
    "            for layer in layers:\n",
    "                n = len(layer)\n",
    "                key.append(f\"{gpu}gpu_{n}Trlayers\")\n",
    "\n",
    "        result = {\n",
    "            \"key\": key,\n",
    "            \"bp\": bp,\n",
    "            \"al\": al\n",
    "        }  \n",
    "\n",
    "        df = pd.DataFrame(result)\n",
    "        df.to_csv(f\"Scale.csv\", index=False)\n",
    "        return bp, al\n",
    "\n",
    "    except Exception as e:\n",
    "        print(e)      \n",
    "        return bp, al"
   ]
  },
  {
   "cell_type": "code",
   "execution_count": 20,
   "metadata": {
    "scrolled": true
   },
   "outputs": [
    {
     "name": "stderr",
     "output_type": "stream",
     "text": [
      "100%|██████████| 469/469 [00:08<00:00, 52.80it/s]\n",
      "100%|██████████| 469/469 [00:08<00:00, 54.04it/s]\n",
      "100%|██████████| 469/469 [00:08<00:00, 54.37it/s]\n",
      "100%|██████████| 469/469 [00:08<00:00, 54.82it/s]\n",
      "100%|██████████| 469/469 [00:08<00:00, 54.60it/s]\n"
     ]
    },
    {
     "name": "stdout",
     "output_type": "stream",
     "text": [
      "BP 1gpu_1Trlayers:8.6685±0.1149\n"
     ]
    },
    {
     "name": "stderr",
     "output_type": "stream",
     "text": [
      "100%|██████████| 469/469 [00:15<00:00, 29.49it/s]\n",
      "100%|██████████| 469/469 [00:15<00:00, 31.19it/s]\n",
      "100%|██████████| 469/469 [00:14<00:00, 31.43it/s]\n",
      "100%|██████████| 469/469 [00:14<00:00, 31.40it/s]\n",
      "100%|██████████| 469/469 [00:14<00:00, 31.28it/s]\n"
     ]
    },
    {
     "name": "stdout",
     "output_type": "stream",
     "text": [
      "BP 1gpu_2Trlayers:15.1605±0.3761\n"
     ]
    },
    {
     "name": "stderr",
     "output_type": "stream",
     "text": [
      "100%|██████████| 469/469 [00:21<00:00, 21.68it/s]\n",
      "100%|██████████| 469/469 [00:21<00:00, 21.76it/s]\n",
      "100%|██████████| 469/469 [00:21<00:00, 21.80it/s]\n",
      "100%|██████████| 469/469 [00:21<00:00, 21.78it/s]\n",
      "100%|██████████| 469/469 [00:21<00:00, 21.72it/s]\n"
     ]
    },
    {
     "name": "stdout",
     "output_type": "stream",
     "text": [
      "BP 1gpu_3Trlayers:21.5682±0.0403\n"
     ]
    },
    {
     "name": "stderr",
     "output_type": "stream",
     "text": [
      "100%|██████████| 469/469 [00:28<00:00, 16.58it/s]\n",
      "100%|██████████| 469/469 [00:28<00:00, 16.63it/s]\n",
      "100%|██████████| 469/469 [00:28<00:00, 16.57it/s]\n",
      "100%|██████████| 469/469 [00:28<00:00, 16.58it/s]\n",
      "100%|██████████| 469/469 [00:28<00:00, 16.53it/s]\n"
     ]
    },
    {
     "name": "stdout",
     "output_type": "stream",
     "text": [
      "BP 1gpu_4Trlayers:28.2956±0.0519\n"
     ]
    },
    {
     "name": "stderr",
     "output_type": "stream",
     "text": [
      "100%|██████████| 469/469 [00:34<00:00, 13.50it/s]\n",
      "100%|██████████| 469/469 [00:34<00:00, 13.48it/s]\n",
      "100%|██████████| 469/469 [00:34<00:00, 13.48it/s]\n",
      "100%|██████████| 469/469 [00:34<00:00, 13.47it/s]\n",
      "100%|██████████| 469/469 [00:34<00:00, 13.58it/s]\n"
     ]
    },
    {
     "name": "stdout",
     "output_type": "stream",
     "text": [
      "BP 1gpu_5Trlayers:34.7366±0.1070\n"
     ]
    },
    {
     "name": "stderr",
     "output_type": "stream",
     "text": [
      "100%|██████████| 469/469 [00:41<00:00, 11.42it/s]\n",
      "100%|██████████| 469/469 [00:41<00:00, 11.35it/s]\n",
      "100%|██████████| 469/469 [00:41<00:00, 11.40it/s]\n",
      "100%|██████████| 469/469 [00:41<00:00, 11.41it/s]\n",
      "100%|██████████| 469/469 [00:41<00:00, 11.41it/s]\n"
     ]
    },
    {
     "name": "stdout",
     "output_type": "stream",
     "text": [
      "BP 1gpu_6Trlayers:41.1455±0.0843\n"
     ]
    },
    {
     "name": "stderr",
     "output_type": "stream",
     "text": [
      "100%|██████████| 469/469 [00:47<00:00,  9.84it/s]\n",
      "100%|██████████| 469/469 [00:48<00:00,  9.61it/s]\n",
      "100%|██████████| 469/469 [00:47<00:00,  9.87it/s]\n",
      "100%|██████████| 469/469 [00:47<00:00,  9.93it/s]\n",
      "100%|██████████| 469/469 [00:47<00:00,  9.89it/s]\n"
     ]
    },
    {
     "name": "stdout",
     "output_type": "stream",
     "text": [
      "BP 1gpu_7Trlayers:47.7362±0.5556\n"
     ]
    },
    {
     "name": "stderr",
     "output_type": "stream",
     "text": [
      "100%|██████████| 469/469 [00:53<00:00,  8.71it/s]\n",
      "100%|██████████| 469/469 [00:54<00:00,  8.67it/s]\n",
      "100%|██████████| 469/469 [00:53<00:00,  8.71it/s]\n",
      "100%|██████████| 469/469 [00:54<00:00,  8.66it/s]\n",
      "100%|██████████| 469/469 [00:53<00:00,  8.75it/s]\n"
     ]
    },
    {
     "name": "stdout",
     "output_type": "stream",
     "text": [
      "BP 1gpu_8Trlayers:53.9002±0.1978\n"
     ]
    },
    {
     "name": "stderr",
     "output_type": "stream",
     "text": [
      "100%|██████████| 469/469 [00:59<00:00,  7.83it/s]\n",
      "100%|██████████| 469/469 [01:00<00:00,  7.70it/s]\n",
      "100%|██████████| 469/469 [00:59<00:00,  7.83it/s]\n",
      "100%|██████████| 469/469 [01:01<00:00,  7.65it/s]\n",
      "100%|██████████| 469/469 [00:59<00:00,  7.83it/s]\n"
     ]
    },
    {
     "name": "stdout",
     "output_type": "stream",
     "text": [
      "BP 1gpu_9Trlayers:60.3925±0.5930\n"
     ]
    },
    {
     "name": "stderr",
     "output_type": "stream",
     "text": [
      "100%|██████████| 469/469 [01:05<00:00,  7.11it/s]\n",
      "100%|██████████| 469/469 [01:06<00:00,  7.07it/s]\n",
      "100%|██████████| 469/469 [01:06<00:00,  7.10it/s]\n",
      "100%|██████████| 469/469 [01:06<00:00,  7.08it/s]\n",
      "100%|██████████| 469/469 [01:05<00:00,  7.12it/s]\n"
     ]
    },
    {
     "name": "stdout",
     "output_type": "stream",
     "text": [
      "BP 1gpu_10Trlayers:66.1035±0.1727\n"
     ]
    },
    {
     "name": "stderr",
     "output_type": "stream",
     "text": [
      "100%|██████████| 469/469 [01:11<00:00,  6.53it/s]\n",
      "100%|██████████| 469/469 [01:14<00:00,  6.29it/s]\n",
      "100%|██████████| 469/469 [01:12<00:00,  6.48it/s]\n",
      "100%|██████████| 469/469 [01:12<00:00,  6.50it/s]\n",
      "100%|██████████| 469/469 [01:11<00:00,  6.52it/s]\n"
     ]
    },
    {
     "name": "stdout",
     "output_type": "stream",
     "text": [
      "BP 1gpu_11Trlayers:72.5862±1.0104\n"
     ]
    },
    {
     "name": "stderr",
     "output_type": "stream",
     "text": [
      "100%|██████████| 469/469 [01:18<00:00,  5.98it/s]\n",
      "100%|██████████| 469/469 [01:18<00:00,  5.96it/s]\n",
      "100%|██████████| 469/469 [01:18<00:00,  5.99it/s]\n",
      "100%|██████████| 469/469 [01:18<00:00,  5.99it/s]\n",
      "100%|██████████| 469/469 [01:18<00:00,  5.94it/s]\n"
     ]
    },
    {
     "name": "stdout",
     "output_type": "stream",
     "text": [
      "BP 1gpu_12Trlayers:78.5170±0.2529\n"
     ]
    },
    {
     "name": "stderr",
     "output_type": "stream",
     "text": [
      "100%|██████████| 469/469 [00:16<00:00, 28.53it/s]\n",
      "100%|██████████| 469/469 [00:16<00:00, 28.95it/s]\n",
      "100%|██████████| 469/469 [00:16<00:00, 29.31it/s]\n",
      "100%|██████████| 469/469 [00:15<00:00, 29.61it/s]\n",
      "100%|██████████| 469/469 [00:15<00:00, 29.57it/s]\n"
     ]
    },
    {
     "name": "stdout",
     "output_type": "stream",
     "text": [
      "BP 2gpu_2Trlayers:16.0708±0.2255\n"
     ]
    },
    {
     "name": "stderr",
     "output_type": "stream",
     "text": [
      "100%|██████████| 469/469 [00:31<00:00, 15.06it/s]\n",
      "100%|██████████| 469/469 [00:30<00:00, 15.15it/s]\n",
      "100%|██████████| 469/469 [00:30<00:00, 15.14it/s]\n",
      "100%|██████████| 469/469 [00:30<00:00, 15.16it/s]\n",
      "100%|██████████| 469/469 [00:31<00:00, 15.06it/s]\n"
     ]
    },
    {
     "name": "stdout",
     "output_type": "stream",
     "text": [
      "BP 2gpu_4Trlayers:31.0329±0.0932\n"
     ]
    },
    {
     "name": "stderr",
     "output_type": "stream",
     "text": [
      "100%|██████████| 469/469 [00:45<00:00, 10.34it/s]\n",
      "100%|██████████| 469/469 [00:45<00:00, 10.36it/s]\n",
      "100%|██████████| 469/469 [00:45<00:00, 10.30it/s]\n",
      "100%|██████████| 469/469 [00:46<00:00, 10.12it/s]\n",
      "100%|██████████| 469/469 [00:46<00:00, 10.15it/s]\n"
     ]
    },
    {
     "name": "stdout",
     "output_type": "stream",
     "text": [
      "BP 2gpu_6Trlayers:45.7447±0.4431\n"
     ]
    },
    {
     "name": "stderr",
     "output_type": "stream",
     "text": [
      "100%|██████████| 469/469 [00:59<00:00,  7.87it/s]\n",
      "100%|██████████| 469/469 [01:00<00:00,  7.70it/s]\n",
      "100%|██████████| 469/469 [01:00<00:00,  7.81it/s]\n",
      "100%|██████████| 469/469 [00:59<00:00,  7.87it/s]\n",
      "100%|██████████| 469/469 [00:59<00:00,  7.84it/s]\n"
     ]
    },
    {
     "name": "stdout",
     "output_type": "stream",
     "text": [
      "BP 2gpu_8Trlayers:60.0061±0.4893\n"
     ]
    },
    {
     "name": "stderr",
     "output_type": "stream",
     "text": [
      "100%|██████████| 469/469 [01:13<00:00,  6.39it/s]\n",
      "100%|██████████| 469/469 [01:13<00:00,  6.39it/s]\n",
      "100%|██████████| 469/469 [01:13<00:00,  6.41it/s]\n",
      "100%|██████████| 469/469 [01:12<00:00,  6.45it/s]\n",
      "100%|██████████| 469/469 [01:13<00:00,  6.42it/s]\n"
     ]
    },
    {
     "name": "stdout",
     "output_type": "stream",
     "text": [
      "BP 2gpu_10Trlayers:73.1462±0.2567\n"
     ]
    },
    {
     "name": "stderr",
     "output_type": "stream",
     "text": [
      "100%|██████████| 469/469 [01:26<00:00,  5.45it/s]\n",
      "100%|██████████| 469/469 [01:27<00:00,  5.39it/s]\n",
      "100%|██████████| 469/469 [01:26<00:00,  5.40it/s]\n",
      "100%|██████████| 469/469 [01:26<00:00,  5.40it/s]\n",
      "100%|██████████| 469/469 [01:28<00:00,  5.29it/s]\n"
     ]
    },
    {
     "name": "stdout",
     "output_type": "stream",
     "text": [
      "BP 2gpu_12Trlayers:87.1229±0.8418\n"
     ]
    },
    {
     "name": "stderr",
     "output_type": "stream",
     "text": [
      "100%|██████████| 469/469 [00:24<00:00, 19.08it/s]\n",
      "100%|██████████| 469/469 [00:24<00:00, 19.07it/s]\n",
      "100%|██████████| 469/469 [00:24<00:00, 19.27it/s]\n",
      "100%|██████████| 469/469 [00:24<00:00, 19.10it/s]\n",
      "100%|██████████| 469/469 [00:24<00:00, 19.07it/s]\n"
     ]
    },
    {
     "name": "stdout",
     "output_type": "stream",
     "text": [
      "BP 3gpu_3Trlayers:24.5356±0.0995\n"
     ]
    },
    {
     "name": "stderr",
     "output_type": "stream",
     "text": [
      "100%|██████████| 469/469 [00:47<00:00,  9.88it/s]\n",
      "100%|██████████| 469/469 [00:47<00:00,  9.97it/s]\n",
      "100%|██████████| 469/469 [00:48<00:00,  9.72it/s]\n",
      "100%|██████████| 469/469 [00:47<00:00,  9.94it/s]\n",
      "100%|██████████| 469/469 [00:47<00:00,  9.94it/s]\n"
     ]
    },
    {
     "name": "stdout",
     "output_type": "stream",
     "text": [
      "BP 3gpu_6Trlayers:47.4251±0.4295\n"
     ]
    },
    {
     "name": "stderr",
     "output_type": "stream",
     "text": [
      "100%|██████████| 469/469 [01:09<00:00,  6.74it/s]\n",
      "100%|██████████| 469/469 [01:09<00:00,  6.71it/s]\n",
      "100%|██████████| 469/469 [01:10<00:00,  6.63it/s]\n",
      "100%|██████████| 469/469 [01:09<00:00,  6.74it/s]\n",
      "100%|██████████| 469/469 [01:09<00:00,  6.77it/s]\n"
     ]
    },
    {
     "name": "stdout",
     "output_type": "stream",
     "text": [
      "BP 3gpu_9Trlayers:69.8119±0.4838\n"
     ]
    },
    {
     "name": "stderr",
     "output_type": "stream",
     "text": [
      "100%|██████████| 469/469 [01:31<00:00,  5.13it/s]\n",
      "100%|██████████| 469/469 [01:31<00:00,  5.15it/s]\n",
      "100%|██████████| 469/469 [01:30<00:00,  5.16it/s]\n",
      "100%|██████████| 469/469 [01:30<00:00,  5.16it/s]\n",
      "100%|██████████| 469/469 [01:31<00:00,  5.11it/s]\n"
     ]
    },
    {
     "name": "stdout",
     "output_type": "stream",
     "text": [
      "BP 3gpu_12Trlayers:91.2259±0.3370\n"
     ]
    },
    {
     "name": "stderr",
     "output_type": "stream",
     "text": [
      "100%|██████████| 469/469 [00:32<00:00, 14.64it/s]\n",
      "100%|██████████| 469/469 [00:31<00:00, 14.66it/s]\n",
      "100%|██████████| 469/469 [00:33<00:00, 14.15it/s]\n",
      "100%|██████████| 469/469 [00:32<00:00, 14.30it/s]\n",
      "100%|██████████| 469/469 [00:32<00:00, 14.53it/s]\n"
     ]
    },
    {
     "name": "stdout",
     "output_type": "stream",
     "text": [
      "BP 4gpu_4Trlayers:32.4574±0.4531\n"
     ]
    },
    {
     "name": "stderr",
     "output_type": "stream",
     "text": [
      "100%|██████████| 469/469 [01:01<00:00,  7.63it/s]\n",
      "100%|██████████| 469/469 [01:01<00:00,  7.60it/s]\n",
      "100%|██████████| 469/469 [01:02<00:00,  7.55it/s]\n",
      "100%|██████████| 469/469 [01:01<00:00,  7.60it/s]\n",
      "100%|██████████| 469/469 [01:00<00:00,  7.71it/s]\n"
     ]
    },
    {
     "name": "stdout",
     "output_type": "stream",
     "text": [
      "BP 4gpu_8Trlayers:61.5525±0.4182\n"
     ]
    },
    {
     "name": "stderr",
     "output_type": "stream",
     "text": [
      "100%|██████████| 469/469 [01:29<00:00,  5.24it/s]\n",
      "100%|██████████| 469/469 [01:28<00:00,  5.28it/s]\n",
      "100%|██████████| 469/469 [01:29<00:00,  5.26it/s]\n",
      "100%|██████████| 469/469 [01:29<00:00,  5.27it/s]\n",
      "100%|██████████| 469/469 [01:28<00:00,  5.27it/s]\n"
     ]
    },
    {
     "name": "stdout",
     "output_type": "stream",
     "text": [
      "BP 4gpu_12Trlayers:89.0970±0.2155\n"
     ]
    },
    {
     "name": "stderr",
     "output_type": "stream",
     "text": [
      "100%|██████████| 469/469 [00:40<00:00, 11.51it/s]\n",
      "100%|██████████| 469/469 [00:40<00:00, 11.47it/s]\n",
      "100%|██████████| 469/469 [00:40<00:00, 11.49it/s]\n",
      "100%|██████████| 469/469 [00:40<00:00, 11.50it/s]\n",
      "100%|██████████| 469/469 [00:40<00:00, 11.45it/s]\n"
     ]
    },
    {
     "name": "stdout",
     "output_type": "stream",
     "text": [
      "BP 5gpu_5Trlayers:40.8333±0.0820\n"
     ]
    },
    {
     "name": "stderr",
     "output_type": "stream",
     "text": [
      "100%|██████████| 469/469 [01:20<00:00,  5.83it/s]\n",
      "100%|██████████| 469/469 [01:20<00:00,  5.80it/s]\n",
      "100%|██████████| 469/469 [01:19<00:00,  5.87it/s]\n",
      "100%|██████████| 469/469 [01:19<00:00,  5.90it/s]\n",
      "100%|██████████| 469/469 [01:20<00:00,  5.80it/s]\n"
     ]
    },
    {
     "name": "stdout",
     "output_type": "stream",
     "text": [
      "BP 5gpu_10Trlayers:80.3244±0.5639\n"
     ]
    },
    {
     "name": "stderr",
     "output_type": "stream",
     "text": [
      "100%|██████████| 469/469 [00:47<00:00,  9.86it/s]\n",
      "100%|██████████| 469/469 [00:48<00:00,  9.75it/s]\n",
      "100%|██████████| 469/469 [00:47<00:00,  9.78it/s]\n",
      "100%|██████████| 469/469 [00:48<00:00,  9.74it/s]\n",
      "100%|██████████| 469/469 [00:48<00:00,  9.66it/s]\n"
     ]
    },
    {
     "name": "stdout",
     "output_type": "stream",
     "text": [
      "BP 6gpu_6Trlayers:48.0672±0.3200\n"
     ]
    },
    {
     "name": "stderr",
     "output_type": "stream",
     "text": [
      "100%|██████████| 469/469 [01:33<00:00,  5.00it/s]\n",
      "100%|██████████| 469/469 [01:33<00:00,  5.01it/s]\n",
      "100%|██████████| 469/469 [01:34<00:00,  4.98it/s]\n",
      "100%|██████████| 469/469 [01:33<00:00,  5.00it/s]\n",
      "100%|██████████| 469/469 [01:35<00:00,  4.91it/s]\n"
     ]
    },
    {
     "name": "stdout",
     "output_type": "stream",
     "text": [
      "BP 6gpu_12Trlayers:94.1557±0.6535\n"
     ]
    },
    {
     "name": "stderr",
     "output_type": "stream",
     "text": [
      "100%|██████████| 469/469 [00:07<00:00, 63.54it/s]\n",
      "100%|██████████| 469/469 [00:07<00:00, 62.73it/s]\n",
      "100%|██████████| 469/469 [00:07<00:00, 63.07it/s]\n",
      "100%|██████████| 469/469 [00:07<00:00, 62.90it/s]\n",
      "100%|██████████| 469/469 [00:07<00:00, 62.95it/s]\n"
     ]
    },
    {
     "name": "stdout",
     "output_type": "stream",
     "text": [
      "AL 1gpu_1Trlayers:7.4422±0.0316\n"
     ]
    },
    {
     "name": "stderr",
     "output_type": "stream",
     "text": [
      "100%|██████████| 469/469 [00:12<00:00, 37.83it/s]\n",
      "100%|██████████| 469/469 [00:12<00:00, 38.20it/s]\n",
      "100%|██████████| 469/469 [00:12<00:00, 37.82it/s]\n",
      "100%|██████████| 469/469 [00:12<00:00, 38.05it/s]\n",
      "100%|██████████| 469/469 [00:12<00:00, 38.18it/s]\n"
     ]
    },
    {
     "name": "stdout",
     "output_type": "stream",
     "text": [
      "AL 1gpu_2Trlayers:12.3406±0.0523\n"
     ]
    },
    {
     "name": "stderr",
     "output_type": "stream",
     "text": [
      "100%|██████████| 469/469 [00:17<00:00, 26.60it/s]\n",
      "100%|██████████| 469/469 [00:17<00:00, 26.55it/s]\n",
      "100%|██████████| 469/469 [00:17<00:00, 26.43it/s]\n",
      "100%|██████████| 469/469 [00:17<00:00, 26.31it/s]\n",
      "100%|██████████| 469/469 [00:17<00:00, 26.48it/s]\n"
     ]
    },
    {
     "name": "stdout",
     "output_type": "stream",
     "text": [
      "AL 1gpu_3Trlayers:17.7225±0.0641\n"
     ]
    },
    {
     "name": "stderr",
     "output_type": "stream",
     "text": [
      "100%|██████████| 469/469 [00:23<00:00, 20.21it/s]\n",
      "100%|██████████| 469/469 [00:22<00:00, 20.39it/s]\n",
      "100%|██████████| 469/469 [00:23<00:00, 20.34it/s]\n",
      "100%|██████████| 469/469 [00:23<00:00, 20.31it/s]\n",
      "100%|██████████| 469/469 [00:23<00:00, 20.35it/s]\n"
     ]
    },
    {
     "name": "stdout",
     "output_type": "stream",
     "text": [
      "AL 1gpu_4Trlayers:23.0861±0.0671\n"
     ]
    },
    {
     "name": "stderr",
     "output_type": "stream",
     "text": [
      "100%|██████████| 469/469 [00:28<00:00, 16.43it/s]\n",
      "100%|██████████| 469/469 [00:28<00:00, 16.54it/s]\n",
      "100%|██████████| 469/469 [00:28<00:00, 16.50it/s]\n",
      "100%|██████████| 469/469 [00:28<00:00, 16.51it/s]\n",
      "100%|██████████| 469/469 [00:28<00:00, 16.47it/s]\n"
     ]
    },
    {
     "name": "stdout",
     "output_type": "stream",
     "text": [
      "AL 1gpu_5Trlayers:28.4502±0.0674\n"
     ]
    },
    {
     "name": "stderr",
     "output_type": "stream",
     "text": [
      "100%|██████████| 469/469 [00:33<00:00, 13.86it/s]\n",
      "100%|██████████| 469/469 [00:33<00:00, 13.83it/s]\n",
      "100%|██████████| 469/469 [00:33<00:00, 13.83it/s]\n",
      "100%|██████████| 469/469 [00:33<00:00, 13.87it/s]\n",
      "100%|██████████| 469/469 [00:33<00:00, 13.79it/s]\n"
     ]
    },
    {
     "name": "stdout",
     "output_type": "stream",
     "text": [
      "AL 1gpu_6Trlayers:33.9025±0.0652\n"
     ]
    },
    {
     "name": "stderr",
     "output_type": "stream",
     "text": [
      "100%|██████████| 469/469 [00:39<00:00, 11.90it/s]\n",
      "100%|██████████| 469/469 [00:39<00:00, 11.85it/s]\n",
      "100%|██████████| 469/469 [00:39<00:00, 11.86it/s]\n",
      "100%|██████████| 469/469 [00:39<00:00, 11.94it/s]\n",
      "100%|██████████| 469/469 [00:39<00:00, 11.92it/s]\n"
     ]
    },
    {
     "name": "stdout",
     "output_type": "stream",
     "text": [
      "AL 1gpu_7Trlayers:39.4354±0.1062\n"
     ]
    },
    {
     "name": "stderr",
     "output_type": "stream",
     "text": [
      "100%|██████████| 469/469 [00:44<00:00, 10.46it/s]\n",
      "100%|██████████| 469/469 [00:44<00:00, 10.49it/s]\n",
      "100%|██████████| 469/469 [00:44<00:00, 10.44it/s]\n",
      "100%|██████████| 469/469 [00:44<00:00, 10.53it/s]\n",
      "100%|██████████| 469/469 [00:44<00:00, 10.49it/s]\n"
     ]
    },
    {
     "name": "stdout",
     "output_type": "stream",
     "text": [
      "AL 1gpu_8Trlayers:44.7524±0.1310\n"
     ]
    },
    {
     "name": "stderr",
     "output_type": "stream",
     "text": [
      "100%|██████████| 469/469 [00:50<00:00,  9.31it/s]\n",
      "100%|██████████| 469/469 [00:50<00:00,  9.35it/s]\n",
      "100%|██████████| 469/469 [00:50<00:00,  9.38it/s]\n",
      "100%|██████████| 469/469 [00:49<00:00,  9.40it/s]\n",
      "100%|██████████| 469/469 [00:50<00:00,  9.34it/s]\n"
     ]
    },
    {
     "name": "stdout",
     "output_type": "stream",
     "text": [
      "AL 1gpu_9Trlayers:50.1453±0.1593\n"
     ]
    },
    {
     "name": "stderr",
     "output_type": "stream",
     "text": [
      "100%|██████████| 469/469 [00:55<00:00,  8.43it/s]\n",
      "100%|██████████| 469/469 [00:55<00:00,  8.43it/s]\n",
      "100%|██████████| 469/469 [00:55<00:00,  8.44it/s]\n",
      "100%|██████████| 469/469 [00:55<00:00,  8.44it/s]\n",
      "100%|██████████| 469/469 [00:55<00:00,  8.40it/s]\n"
     ]
    },
    {
     "name": "stdout",
     "output_type": "stream",
     "text": [
      "AL 1gpu_10Trlayers:55.6442±0.0895\n"
     ]
    },
    {
     "name": "stderr",
     "output_type": "stream",
     "text": [
      "100%|██████████| 469/469 [01:00<00:00,  7.70it/s]\n",
      "100%|██████████| 469/469 [01:00<00:00,  7.71it/s]\n",
      "100%|██████████| 469/469 [01:00<00:00,  7.70it/s]\n",
      "100%|██████████| 469/469 [01:00<00:00,  7.70it/s]\n",
      "100%|██████████| 469/469 [01:01<00:00,  7.66it/s]\n"
     ]
    },
    {
     "name": "stdout",
     "output_type": "stream",
     "text": [
      "AL 1gpu_11Trlayers:60.9667±0.1385\n"
     ]
    },
    {
     "name": "stderr",
     "output_type": "stream",
     "text": [
      "100%|██████████| 469/469 [01:05<00:00,  7.12it/s]\n",
      "100%|██████████| 469/469 [01:06<00:00,  7.07it/s]\n",
      "100%|██████████| 469/469 [01:06<00:00,  7.08it/s]\n",
      "100%|██████████| 469/469 [01:06<00:00,  7.06it/s]\n",
      "100%|██████████| 469/469 [01:06<00:00,  7.09it/s]\n"
     ]
    },
    {
     "name": "stdout",
     "output_type": "stream",
     "text": [
      "AL 1gpu_12Trlayers:66.2006±0.1709\n"
     ]
    },
    {
     "name": "stderr",
     "output_type": "stream",
     "text": [
      "100%|██████████| 469/469 [00:09<00:00, 48.06it/s]\n",
      "100%|██████████| 469/469 [00:09<00:00, 48.21it/s]\n",
      "100%|██████████| 469/469 [00:09<00:00, 49.44it/s]\n",
      "100%|██████████| 469/469 [00:09<00:00, 48.77it/s]\n",
      "100%|██████████| 469/469 [00:09<00:00, 51.58it/s]\n"
     ]
    },
    {
     "name": "stdout",
     "output_type": "stream",
     "text": [
      "AL 2gpu_2Trlayers:9.5381±0.2422\n"
     ]
    },
    {
     "name": "stderr",
     "output_type": "stream",
     "text": [
      "100%|██████████| 469/469 [00:19<00:00, 23.62it/s]\n",
      "100%|██████████| 469/469 [00:19<00:00, 23.87it/s]\n",
      "100%|██████████| 469/469 [00:19<00:00, 24.03it/s]\n",
      "100%|██████████| 469/469 [00:19<00:00, 23.67it/s]\n",
      "100%|██████████| 469/469 [00:19<00:00, 23.85it/s]\n"
     ]
    },
    {
     "name": "stdout",
     "output_type": "stream",
     "text": [
      "AL 2gpu_4Trlayers:19.7004±0.1240\n"
     ]
    },
    {
     "name": "stderr",
     "output_type": "stream",
     "text": [
      "100%|██████████| 469/469 [00:31<00:00, 15.08it/s]\n",
      "100%|██████████| 469/469 [00:31<00:00, 15.11it/s]\n",
      "100%|██████████| 469/469 [00:30<00:00, 15.21it/s]\n",
      "100%|██████████| 469/469 [00:31<00:00, 14.90it/s]\n",
      "100%|██████████| 469/469 [00:30<00:00, 15.18it/s]\n"
     ]
    },
    {
     "name": "stdout",
     "output_type": "stream",
     "text": [
      "AL 2gpu_6Trlayers:31.0750±0.2276\n"
     ]
    },
    {
     "name": "stderr",
     "output_type": "stream",
     "text": [
      "100%|██████████| 469/469 [00:42<00:00, 11.05it/s]\n",
      "100%|██████████| 469/469 [00:42<00:00, 10.98it/s]\n",
      "100%|██████████| 469/469 [00:42<00:00, 11.01it/s]\n",
      "100%|██████████| 469/469 [00:42<00:00, 11.06it/s]\n",
      "100%|██████████| 469/469 [00:42<00:00, 11.03it/s]\n"
     ]
    },
    {
     "name": "stdout",
     "output_type": "stream",
     "text": [
      "AL 2gpu_8Trlayers:42.5375±0.1133\n"
     ]
    },
    {
     "name": "stderr",
     "output_type": "stream",
     "text": [
      "100%|██████████| 469/469 [00:53<00:00,  8.72it/s]\n",
      "100%|██████████| 469/469 [00:54<00:00,  8.65it/s]\n",
      "100%|██████████| 469/469 [00:54<00:00,  8.59it/s]\n",
      "100%|██████████| 469/469 [00:53<00:00,  8.69it/s]\n",
      "100%|██████████| 469/469 [00:53<00:00,  8.70it/s]\n"
     ]
    },
    {
     "name": "stdout",
     "output_type": "stream",
     "text": [
      "AL 2gpu_10Trlayers:54.0838±0.2859\n"
     ]
    },
    {
     "name": "stderr",
     "output_type": "stream",
     "text": [
      "100%|██████████| 469/469 [01:04<00:00,  7.22it/s]\n",
      "100%|██████████| 469/469 [01:05<00:00,  7.14it/s]\n",
      "100%|██████████| 469/469 [01:05<00:00,  7.17it/s]\n",
      "100%|██████████| 469/469 [01:05<00:00,  7.14it/s]\n",
      "100%|██████████| 469/469 [01:05<00:00,  7.16it/s]\n"
     ]
    },
    {
     "name": "stdout",
     "output_type": "stream",
     "text": [
      "AL 2gpu_12Trlayers:65.4556±0.2552\n"
     ]
    },
    {
     "name": "stderr",
     "output_type": "stream",
     "text": [
      "100%|██████████| 469/469 [00:11<00:00, 39.40it/s]\n",
      "100%|██████████| 469/469 [00:11<00:00, 39.68it/s]\n",
      "100%|██████████| 469/469 [00:12<00:00, 38.90it/s]\n",
      "100%|██████████| 469/469 [00:12<00:00, 38.83it/s]\n",
      "100%|██████████| 469/469 [00:11<00:00, 39.37it/s]\n"
     ]
    },
    {
     "name": "stdout",
     "output_type": "stream",
     "text": [
      "AL 3gpu_3Trlayers:11.9558±0.0979\n"
     ]
    },
    {
     "name": "stderr",
     "output_type": "stream",
     "text": [
      "100%|██████████| 469/469 [00:24<00:00, 18.85it/s]\n",
      "100%|██████████| 469/469 [00:24<00:00, 18.83it/s]\n",
      "100%|██████████| 469/469 [00:24<00:00, 18.93it/s]\n",
      "100%|██████████| 469/469 [00:24<00:00, 19.20it/s]\n",
      "100%|██████████| 469/469 [00:24<00:00, 19.11it/s]\n"
     ]
    },
    {
     "name": "stdout",
     "output_type": "stream",
     "text": [
      "AL 3gpu_6Trlayers:24.7074±0.1899\n"
     ]
    },
    {
     "name": "stderr",
     "output_type": "stream",
     "text": [
      "100%|██████████| 469/469 [00:39<00:00, 11.78it/s]\n",
      "100%|██████████| 469/469 [00:40<00:00, 11.67it/s]\n",
      "100%|██████████| 469/469 [00:40<00:00, 11.66it/s]\n",
      "100%|██████████| 469/469 [00:40<00:00, 11.58it/s]\n",
      "100%|██████████| 469/469 [00:39<00:00, 11.78it/s]\n"
     ]
    },
    {
     "name": "stdout",
     "output_type": "stream",
     "text": [
      "AL 3gpu_9Trlayers:40.1107±0.2646\n"
     ]
    },
    {
     "name": "stderr",
     "output_type": "stream",
     "text": [
      "100%|██████████| 469/469 [00:55<00:00,  8.44it/s]\n",
      "100%|██████████| 469/469 [00:56<00:00,  8.37it/s]\n",
      "100%|██████████| 469/469 [00:55<00:00,  8.43it/s]\n",
      "100%|██████████| 469/469 [00:55<00:00,  8.42it/s]\n",
      "100%|██████████| 469/469 [00:55<00:00,  8.52it/s]\n"
     ]
    },
    {
     "name": "stdout",
     "output_type": "stream",
     "text": [
      "AL 3gpu_12Trlayers:55.5893±0.3054\n"
     ]
    },
    {
     "name": "stderr",
     "output_type": "stream",
     "text": [
      "100%|██████████| 469/469 [00:15<00:00, 30.36it/s]\n",
      "100%|██████████| 469/469 [00:15<00:00, 30.12it/s]\n",
      "100%|██████████| 469/469 [00:15<00:00, 30.05it/s]\n",
      "100%|██████████| 469/469 [00:15<00:00, 30.30it/s]\n",
      "100%|██████████| 469/469 [00:15<00:00, 29.98it/s]\n"
     ]
    },
    {
     "name": "stdout",
     "output_type": "stream",
     "text": [
      "AL 4gpu_4Trlayers:15.5513±0.0751\n"
     ]
    },
    {
     "name": "stderr",
     "output_type": "stream",
     "text": [
      "100%|██████████| 469/469 [00:33<00:00, 14.06it/s]\n",
      "100%|██████████| 469/469 [00:32<00:00, 14.23it/s]\n",
      "100%|██████████| 469/469 [00:33<00:00, 13.83it/s]\n",
      "100%|██████████| 469/469 [00:32<00:00, 14.46it/s]\n",
      "100%|██████████| 469/469 [00:32<00:00, 14.38it/s]\n"
     ]
    },
    {
     "name": "stdout",
     "output_type": "stream",
     "text": [
      "AL 4gpu_8Trlayers:33.0590±0.5336\n"
     ]
    },
    {
     "name": "stderr",
     "output_type": "stream",
     "text": [
      "100%|██████████| 469/469 [00:51<00:00,  9.10it/s]\n",
      "100%|██████████| 469/469 [00:52<00:00,  8.97it/s]\n",
      "100%|██████████| 469/469 [00:51<00:00,  9.19it/s]\n",
      "100%|██████████| 469/469 [00:50<00:00,  9.38it/s]\n",
      "100%|██████████| 469/469 [00:50<00:00,  9.31it/s]\n"
     ]
    },
    {
     "name": "stdout",
     "output_type": "stream",
     "text": [
      "AL 4gpu_12Trlayers:51.0519±0.7986\n"
     ]
    },
    {
     "name": "stderr",
     "output_type": "stream",
     "text": [
      "100%|██████████| 469/469 [00:21<00:00, 22.23it/s]\n",
      "100%|██████████| 469/469 [00:21<00:00, 22.15it/s]\n",
      "100%|██████████| 469/469 [00:21<00:00, 22.19it/s]\n",
      "100%|██████████| 469/469 [00:20<00:00, 22.71it/s]\n",
      "100%|██████████| 469/469 [00:21<00:00, 22.16it/s]\n"
     ]
    },
    {
     "name": "stdout",
     "output_type": "stream",
     "text": [
      "AL 5gpu_5Trlayers:21.0439±0.1978\n"
     ]
    },
    {
     "name": "stderr",
     "output_type": "stream",
     "text": [
      "100%|██████████| 469/469 [00:50<00:00,  9.26it/s]\n",
      "100%|██████████| 469/469 [00:48<00:00,  9.64it/s]\n",
      "100%|██████████| 469/469 [00:49<00:00,  9.47it/s]\n",
      "100%|██████████| 469/469 [00:51<00:00,  9.17it/s]\n",
      "100%|██████████| 469/469 [00:50<00:00,  9.25it/s]\n"
     ]
    },
    {
     "name": "stdout",
     "output_type": "stream",
     "text": [
      "AL 5gpu_10Trlayers:50.1382±0.9243\n"
     ]
    },
    {
     "name": "stderr",
     "output_type": "stream",
     "text": [
      "100%|██████████| 469/469 [00:26<00:00, 17.79it/s]\n",
      "100%|██████████| 469/469 [00:25<00:00, 18.15it/s]\n",
      "100%|██████████| 469/469 [00:25<00:00, 18.26it/s]\n",
      "100%|██████████| 469/469 [00:27<00:00, 17.15it/s]\n",
      "100%|██████████| 469/469 [00:25<00:00, 18.09it/s]\n"
     ]
    },
    {
     "name": "stdout",
     "output_type": "stream",
     "text": [
      "AL 6gpu_6Trlayers:26.2323±0.6030\n"
     ]
    },
    {
     "name": "stderr",
     "output_type": "stream",
     "text": [
      "100%|██████████| 469/469 [00:58<00:00,  8.01it/s]\n",
      "100%|██████████| 469/469 [01:03<00:00,  7.44it/s]\n",
      "100%|██████████| 469/469 [01:03<00:00,  7.40it/s]\n",
      "100%|██████████| 469/469 [01:01<00:00,  7.58it/s]\n",
      "100%|██████████| 469/469 [00:57<00:00,  8.16it/s]"
     ]
    },
    {
     "name": "stdout",
     "output_type": "stream",
     "text": [
      "AL 6gpu_12Trlayers:60.8546±2.3844\n"
     ]
    },
    {
     "name": "stderr",
     "output_type": "stream",
     "text": [
      "\n"
     ]
    }
   ],
   "source": [
    "bp, al = Scale()"
   ]
  },
  {
   "attachments": {},
   "cell_type": "markdown",
   "metadata": {},
   "source": [
    "# Preview"
   ]
  },
  {
   "cell_type": "code",
   "execution_count": 14,
   "metadata": {},
   "outputs": [],
   "source": [
    "def CalculateSpeedUp(time):\n",
    "    speedup = []\n",
    "    for t in time:\n",
    "        speedup.append(time[0]/t)\n",
    "    return speedup"
   ]
  },
  {
   "cell_type": "code",
   "execution_count": 15,
   "metadata": {},
   "outputs": [],
   "source": [
    "def plotGraph(bp, al, title):\n",
    "    \n",
    "    if len(bp)==6:\n",
    "        gpu = [1, 2, 3, 4, 5, 6]\n",
    "        xlabel = \"Number of GPUs & task size\"\n",
    "    else:\n",
    "        gpu = [1, 2, 3, 4, 6]\n",
    "        xlabel = \"Number of GPUs\"\n",
    "    \n",
    "    fig, axs = plt.subplots(2, 1, figsize=(8, 6))\n",
    "    fig.suptitle(title)\n",
    "\n",
    "    # 繪製子圖A\n",
    "    axs[0].plot(gpu, bp, label=\"BP\")\n",
    "    axs[0].plot(gpu, al, label=\"AL\")\n",
    "    axs[0].set_ylabel('Execution Time')\n",
    "    axs[0].set_xlabel(xlabel)\n",
    "    axs[0].legend()\n",
    "\n",
    "    # 繪製子圖B\n",
    "    axs[1].plot(gpu, CalculateSpeedUp(bp), label=\"BP\")\n",
    "    axs[1].plot(gpu, CalculateSpeedUp(al), label=\"AL\")\n",
    "    axs[1].set_ylabel('Speedup')\n",
    "    axs[1].set_xlabel(xlabel)\n",
    "    axs[1].legend()\n",
    "\n",
    "    # 顯示圖表\n",
    "    plt.savefig(f\"{title}.pdf\", format=\"pdf\")\n",
    "    plt.show()   "
   ]
  },
  {
   "cell_type": "code",
   "execution_count": 16,
   "metadata": {},
   "outputs": [],
   "source": [
    "def readResults(filename):\n",
    "    \n",
    "    df = pd.read_csv(filename)\n",
    "    bp = []\n",
    "    al = []\n",
    "    for _, row in df.iterrows():\n",
    "        bp.append(float(row[\"bp\"].split(\"±\")[0]))\n",
    "        al.append(float(row[\"al\"].split(\"±\")[0]))\n",
    "        \n",
    "    plotGraph(bp, al, filename.split(\".csv\")[0])        "
   ]
  },
  {
   "cell_type": "code",
   "execution_count": 17,
   "metadata": {},
   "outputs": [],
   "source": [
    "def getMean(string):\n",
    "    return float(string.split(\"±\")[0])"
   ]
  },
  {
   "attachments": {},
   "cell_type": "markdown",
   "metadata": {},
   "source": [
    "# WeakScale"
   ]
  },
  {
   "cell_type": "code",
   "execution_count": 18,
   "metadata": {},
   "outputs": [],
   "source": [
    "def WeakScalePreview():\n",
    "    '''\n",
    "    Graph 1: Time/Speedup(y) with different number of layers/gpus(x)\n",
    "    Data:\n",
    "    (1,1),(2,2),(3,3),(4,4),(5,5),(6,6)\n",
    "\n",
    "    Chart 1: Time/Speedup(BPvsAL) with different number of layers/gpus\n",
    "\n",
    "    Graph 2: Different number of gpus(label), Time(y) with different number of layers(x)\n",
    "    Data:\n",
    "    (1,1~12)\n",
    "    (2,2~12)\n",
    "    (3,3~12)\n",
    "    (6,6~12)\n",
    "    '''\n",
    "\n",
    "    data = pd.read_csv(\"Scale.csv\", index_col = 0).to_dict(\"index\")\n",
    "\n",
    "    # graph 1 \n",
    "    bp = []\n",
    "    al = []\n",
    "    for i in range(1,7,1):\n",
    "        key = f\"{i}gpu_{i}Trlayers\"\n",
    "        bp.append(getMean(data[key][\"bp\"]))\n",
    "        al.append(getMean(data[key][\"al\"]))\n",
    "    plotGraph(bp, al, \"WeakScale\")\n",
    "\n",
    "    # chart 1\n",
    "    bpSpeedup = CalculateSpeedUp(bp)\n",
    "    alSpeedup = CalculateSpeedUp(al)\n",
    "    bp = []\n",
    "    al = []\n",
    "    gpu = []\n",
    "    speedup = []\n",
    "    for i in range(1,7,1):\n",
    "        key = f\"{i}gpu_{i}Trlayers\"\n",
    "        bp.append(data[key][\"bp\"])\n",
    "        al.append(data[key][\"al\"])\n",
    "        gpu.append(i)\n",
    "        speedup.append(getMean(data[key][\"bp\"]) / getMean(data[key][\"al\"]))\n",
    "    res = {\n",
    "        \"Number of encoder & GPUs \":gpu,\n",
    "        \"BP\":bp,\n",
    "        \"AL\":al,\n",
    "        \"SpeedUp(BP[0] / BP[i])\":bpSpeedup,\n",
    "        \"SpeedUp(AL[0] / AL[i])\":alSpeedup,\n",
    "        \"SpeedUp(BP / AL)\":speedup\n",
    "    }\n",
    "    print(pd.DataFrame(res).to_latex(index=False))\n",
    "\n",
    "    # graph 2\n",
    "    bp = defaultdict(list)\n",
    "    al = defaultdict(list)\n",
    "    for i in range(1,7,1):\n",
    "        for j in range(i, 13, i):\n",
    "            key = f\"{i}gpu_{j}Trlayers\"\n",
    "            bp[i].append(getMean(data[key][\"bp\"]))\n",
    "            al[i].append(getMean(data[key][\"al\"]))\n",
    "    \n",
    "    plt.plot([i for i in range(1,13,1)], bp[1], label=\"BP with 1GPU & task size m\", marker=\".\")\n",
    "    plt.plot([i for i in range(2,13,2)], bp[2], label=\"BP with 2GPU & task size 2m\", marker=\".\")\n",
    "    plt.plot([i for i in range(3,13,3)], bp[3], label=\"BP with 3GPU & task size 3m\", marker=\".\")\n",
    "    plt.plot([i for i in range(6,13,6)], bp[6], label=\"BP with 6GPU & task size 6m\", marker=\".\")\n",
    "    plt.plot([i for i in range(1,13,1)], al[1], label=\"AL with 1GPU & task size m\", marker=\"X\")\n",
    "    plt.plot([i for i in range(2,13,2)], al[2], label=\"AL with 2GPU & task size 2m\", marker=\"X\")\n",
    "    plt.plot([i for i in range(3,13,3)], al[3], label=\"AL with 3GPU & task size 3m\", marker=\"X\")\n",
    "    plt.plot([i for i in range(6,13,6)], al[6], label=\"AL with 6GPU & task size 6m\", marker=\"X\")\n",
    "    plt.ylabel('Execution Time')\n",
    "    plt.xlabel('Number of Encoders')\n",
    "    plt.legend()\n",
    "    plt.savefig(\"WeakScale2.pdf\", format=\"pdf\")\n",
    "    plt.show()"
   ]
  },
  {
   "cell_type": "code",
   "execution_count": 19,
   "metadata": {},
   "outputs": [
    {
     "data": {
      "image/png": "[encoded data removed]",
      "text/plain": [
       "<Figure size 576x432 with 2 Axes>"
      ]
     },
     "metadata": {
      "needs_background": "light"
     },
     "output_type": "display_data"
    },
    {
     "name": "stdout",
     "output_type": "stream",
     "text": [
      "\\begin{tabular}{rllrrr}\n",
      "\\toprule\n",
      " Number of encoder \\& GPUs  &             BP &             AL &  SpeedUp(BP[0] / BP[i]) &  SpeedUp(AL[0] / AL[i]) &  SpeedUp(BP / AL) \\\\\n",
      "\\midrule\n",
      "                         1 &  8.6685±0.1149 &  7.4422±0.0316 &                1.000000 &                1.000000 &          1.164777 \\\\\n",
      "                         2 & 16.0708±0.2255 &  9.5381±0.2422 &                0.539394 &                0.780260 &          1.684906 \\\\\n",
      "                         3 & 24.5356±0.0995 & 11.9558±0.0979 &                0.353303 &                0.622476 &          2.052192 \\\\\n",
      "                         4 & 32.4574±0.4531 & 15.5513±0.0751 &                0.267073 &                0.478558 &          2.087118 \\\\\n",
      "                         5 & 40.8333±0.0820 & 21.0439±0.1978 &                0.212290 &                0.353651 &          1.940387 \\\\\n",
      "                         6 & 48.0672±0.3200 & 26.2323±0.6030 &                0.180341 &                0.283704 &          1.832367 \\\\\n",
      "\\bottomrule\n",
      "\\end{tabular}\n",
      "\n"
     ]
    },
    {
     "data": {
      "image/png": "[encoded data removed]",
      "text/plain": [
       "<Figure size 432x288 with 1 Axes>"
      ]
     },
     "metadata": {
      "needs_background": "light"
     },
     "output_type": "display_data"
    }
   ],
   "source": [
    "WeakScalePreview()"
   ]
  },
  {
   "cell_type": "code",
   "execution_count": 20,
   "metadata": {},
   "outputs": [],
   "source": [
    "def StrongScalePreview():\n",
    "    '''\n",
    "    Graph 1: Time/Speedup(y) with different number of gpus(x)\n",
    "    Data:\n",
    "    (1,12),(2,12),(3,12),(4,12),(6,12)\n",
    "\n",
    "    Chart 1: Time/Speedup(BPvsAL) with different number of gpus\n",
    "\n",
    "    Graph 2: Different number of layers(label), Time(y) with different number of gpus(x)\n",
    "    Data:\n",
    "    (1,4), (2,4), (4,4)\n",
    "    (1,6), (2,6), (3,6), (6,6)\n",
    "    (1,8), (2,8), (4,8)\n",
    "    (1,12), (2,12), (3,12), (4,12), (6,12)\n",
    "    '''\n",
    "\n",
    "    data = pd.read_csv(\"Scale.csv\", index_col = 0).to_dict(\"index\")\n",
    "\n",
    "    # graph 1\n",
    "    bp = []\n",
    "    al = []\n",
    "    for i in [1,2,3,4,6]:\n",
    "        key = f\"{i}gpu_12Trlayers\"\n",
    "        bp.append(getMean(data[key][\"bp\"]))\n",
    "        al.append(getMean(data[key][\"al\"]))\n",
    "    plotGraph(bp, al, \"StrongScale\")\n",
    "\n",
    "    # chart 1\n",
    "    bpSpeedup = CalculateSpeedUp(bp)\n",
    "    alSpeedup = CalculateSpeedUp(al)\n",
    "    bp = []\n",
    "    al = []\n",
    "    gpu = []\n",
    "    speedup = []\n",
    "    for i in [1,2,3,4,6]:\n",
    "        key = f\"{i}gpu_12Trlayers\"\n",
    "        bp.append(data[key][\"bp\"])\n",
    "        al.append(data[key][\"al\"])\n",
    "        gpu.append(i)\n",
    "        speedup.append(getMean(data[key][\"bp\"]) / getMean(data[key][\"al\"]))\n",
    "    res = {\n",
    "        \"Number of gpus\":gpu,\n",
    "        \"BP\":bp,\n",
    "        \"AL\":al,\n",
    "        \"SpeedUp(BP[0] / BP[i])\":bpSpeedup,\n",
    "        \"SpeedUp(AL[0] / AL[i])\":alSpeedup,\n",
    "        \"SpeedUp(BP / AL)\":speedup\n",
    "    }\n",
    "    print(pd.DataFrame(res).to_latex(index=False))\n",
    "\n",
    "    # graph 2\n",
    "    bp = defaultdict(list)\n",
    "    al = defaultdict(list)\n",
    "    for i in [4,6,8,12]:\n",
    "        for j in [1,2,3,4,6]:\n",
    "            if i % j == 0:\n",
    "                key = f\"{j}gpu_{i}Trlayers\"\n",
    "                bp[i].append(getMean(data[key][\"bp\"]))\n",
    "                al[i].append(getMean(data[key][\"al\"]))\n",
    "    \n",
    "    plt.plot([1,2,4], bp[4], label=\"BP with 4Layers\", marker=\".\")\n",
    "    plt.plot([1,2,3,6], bp[6], label=\"BP with 6Layers\", marker=\".\")\n",
    "    plt.plot([1,2,4], bp[8], label=\"BP with 8Layers\", marker=\".\")\n",
    "    plt.plot([1,2,3,4,6], bp[12], label=\"BP with 12Layers\", marker=\".\")\n",
    "    plt.plot([1,2,4], al[4], label=\"AL with 4Layers\", marker=\"X\")\n",
    "    plt.plot([1,2,3,6], al[6], label=\"AL with 6Layers\", marker=\"X\")\n",
    "    plt.plot([1,2,4], al[8], label=\"AL with 8Layers\", marker=\"X\")\n",
    "    plt.plot([1,2,3,4,6], al[12], label=\"AL with 12Layers\", marker=\"X\")\n",
    "    plt.ylabel('Execution Time')\n",
    "    plt.xlabel('Number of GPUs')\n",
    "    plt.legend()\n",
    "    plt.savefig(\"StrongScale2.pdf\", format=\"pdf\")\n",
    "    plt.show()"
   ]
  },
  {
   "cell_type": "code",
   "execution_count": 21,
   "metadata": {},
   "outputs": [
    {
     "data": {
      "image/png": "[encoded data removed]",
      "text/plain": [
       "<Figure size 576x432 with 2 Axes>"
      ]
     },
     "metadata": {
      "needs_background": "light"
     },
     "output_type": "display_data"
    },
    {
     "name": "stdout",
     "output_type": "stream",
     "text": [
      "\\begin{tabular}{rllrrr}\n",
      "\\toprule\n",
      " Number of gpus &             BP &             AL &  SpeedUp(BP[0] / BP[i]) &  SpeedUp(AL[0] / AL[i]) &  SpeedUp(BP / AL) \\\\\n",
      "\\midrule\n",
      "              1 & 78.5170±0.2529 & 66.2006±0.1709 &                1.000000 &                1.000000 &          1.186047 \\\\\n",
      "              2 & 87.1229±0.8418 & 65.4556±0.2552 &                0.901221 &                1.011382 &          1.331023 \\\\\n",
      "              3 & 91.2259±0.3370 & 55.5893±0.3054 &                0.860688 &                1.190887 &          1.641069 \\\\\n",
      "              4 & 89.0970±0.2155 & 51.0519±0.7986 &                0.881253 &                1.296731 &          1.745224 \\\\\n",
      "              6 & 94.1557±0.6535 & 60.8546±2.3844 &                0.833906 &                1.087849 &          1.547224 \\\\\n",
      "\\bottomrule\n",
      "\\end{tabular}\n",
      "\n"
     ]
    },
    {
     "data": {
      "image/png": "[encoded data removed]",
      "text/plain": [
       "<Figure size 432x288 with 1 Axes>"
      ]
     },
     "metadata": {
      "needs_background": "light"
     },
     "output_type": "display_data"
    }
   ],
   "source": [
    "StrongScalePreview()"
   ]
  },
  {
   "attachments": {},
   "cell_type": "markdown",
   "metadata": {},
   "source": [
    "## Debug"
   ]
  },
  {
   "cell_type": "code",
   "execution_count": 10,
   "metadata": {},
   "outputs": [],
   "source": [
    "from torch.profiler import profile, record_function, ProfilerActivity"
   ]
  },
  {
   "cell_type": "code",
   "execution_count": 11,
   "metadata": {},
   "outputs": [],
   "source": [
    "def debugger(args, mode, device, tr_num):\n",
    "    model = TransformerAL(args, tr_num)\n",
    "    d = set(device)\n",
    "    set_device(model, device)\n",
    "    model.train()\n",
    "    torch.cuda.synchronize()\n",
    "    start = time.time()\n",
    "    count = 0\n",
    "    for inputs, labels in train_loader:\n",
    "        if count < 1:\n",
    "            with profile(activities=[ProfilerActivity.CPU, ProfilerActivity.CUDA]) as prof:\n",
    "                y = torch.nn.functional.one_hot(labels, args.class_num).float()\n",
    "                model.thread_forward_backward_and_update(inputs, y)\n",
    "            prof.export_chrome_trace(f\"{mode}_{len(d)}.json\")\n",
    "            count += 1\n",
    "        else:\n",
    "            break\n",
    "    torch.cuda.synchronize()\n",
    "    end = time.time()"
   ]
  },
  {
   "cell_type": "code",
   "execution_count": 17,
   "metadata": {
    "collapsed": true
   },
   "outputs": [
    {
     "name": "stderr",
     "output_type": "stream",
     "text": [
      "STAGE:2023-06-03 14:29:28 125:125 ActivityProfilerController.cpp:294] Completed Stage: Warm Up\n",
      "STAGE:2023-06-03 14:29:28 125:125 ActivityProfilerController.cpp:300] Completed Stage: Collection\n",
      "STAGE:2023-06-03 14:29:29 125:125 output_json.cpp:417] Completed Stage: Post Processing\n",
      "STAGE:2023-06-03 14:29:29 125:125 ActivityProfilerController.cpp:294] Completed Stage: Warm Up\n",
      "STAGE:2023-06-03 14:29:29 125:125 ActivityProfilerController.cpp:300] Completed Stage: Collection\n",
      "STAGE:2023-06-03 14:29:30 125:125 output_json.cpp:417] Completed Stage: Post Processing\n",
      "STAGE:2023-06-03 14:29:30 125:125 ActivityProfilerController.cpp:294] Completed Stage: Warm Up\n",
      "STAGE:2023-06-03 14:29:30 125:125 ActivityProfilerController.cpp:300] Completed Stage: Collection\n",
      "STAGE:2023-06-03 14:29:31 125:125 output_json.cpp:417] Completed Stage: Post Processing\n",
      "STAGE:2023-06-03 14:29:31 125:125 ActivityProfilerController.cpp:294] Completed Stage: Warm Up\n",
      "STAGE:2023-06-03 14:29:31 125:125 ActivityProfilerController.cpp:300] Completed Stage: Collection\n",
      "STAGE:2023-06-03 14:29:32 125:125 output_json.cpp:417] Completed Stage: Post Processing\n",
      "STAGE:2023-06-03 14:29:32 125:125 ActivityProfilerController.cpp:294] Completed Stage: Warm Up\n",
      "STAGE:2023-06-03 14:29:32 125:125 ActivityProfilerController.cpp:300] Completed Stage: Collection\n",
      "STAGE:2023-06-03 14:29:33 125:125 output_json.cpp:417] Completed Stage: Post Processing\n"
     ]
    }
   ],
   "source": [
    "gpus = {\n",
    "        \"1\":[[0,0,0,0,0,0,0,0,0,0,0,0]],\n",
    "        \"2\":[[0,1,0,1,0,1,0,1,0,1,0,1]],\n",
    "        \"3\":[[0,1,2,0,1,2,0,1,2,0,1,2]],\n",
    "        \"4\":[[0,1,2,3,0,1,2,3,0,1,2,3]],\n",
    "        \"6\":[[0,1,2,3,4,5,0,1,2,3,4,5]]\n",
    "}\n",
    "for i in range(1,7):\n",
    "    if i == 5:continue\n",
    "    device = ['cuda:0']\n",
    "    for l in gpus[f\"{i}\"][-1]:\n",
    "        device.append(f\"cuda:{l}\")\n",
    "    debugger(args, \"TransformerAL\", device, 12)"
   ]
  },
  {
   "cell_type": "code",
   "execution_count": 16,
   "metadata": {},
   "outputs": [
    {
     "name": "stderr",
     "output_type": "stream",
     "text": [
      "STAGE:2023-06-03 14:26:47 125:125 ActivityProfilerController.cpp:294] Completed Stage: Warm Up\n",
      "STAGE:2023-06-03 14:26:47 125:125 ActivityProfilerController.cpp:300] Completed Stage: Collection\n",
      "STAGE:2023-06-03 14:26:47 125:125 output_json.cpp:417] Completed Stage: Post Processing\n"
     ]
    }
   ],
   "source": [
    "device = ['cuda:0','cuda:0','cuda:1','cuda:2','cuda:3']\n",
    "debugger(args, \"TransformerAL\", device, 4)"
   ]
  },
  {
   "cell_type": "code",
   "execution_count": null,
   "metadata": {},
   "outputs": [],
   "source": []
  }
 ],
 "metadata": {
  "kernelspec": {
   "display_name": "Python 3 (ipykernel)",
   "language": "python",
   "name": "python3"
  },
  "language_info": {
   "codemirror_mode": {
    "name": "ipython",
    "version": 3
   },
   "file_extension": ".py",
   "mimetype": "text/x-python",
   "name": "python",
   "nbconvert_exporter": "python",
   "pygments_lexer": "ipython3",
   "version": "3.8.8"
  },
  "vscode": {
   "interpreter": {
    "hash": "76c4f3622f288d0f3c2e376232f2456f5c5e87406eab531441c110fa1d124550"
   }
  }
 },
 "nbformat": 4,
 "nbformat_minor": 2
}
